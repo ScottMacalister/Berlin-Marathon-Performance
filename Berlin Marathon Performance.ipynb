{
 "cells": [
  {
   "cell_type": "markdown",
   "id": "5c24866a-6284-4036-aa36-ecce0bf44520",
   "metadata": {},
   "source": [
    "# 🏃‍♂️ 🌦️ Berlin Marathon Performance\n",
    "\n",
    "#### by Scott Macalister\n",
    "\n",
    "\n",
    "## 📌 Research Question\n",
    "\n",
    "#### How do weather conditions affect performance at the Berlin Marathon?\n",
    "\n",
    "## 📊 Dataset\n",
    "\n",
    "#### Based on an anonymised register of Berlin marathon runners' finishing times between 1974 and 2019 and a register of the weather conditions during marathon race days."
   ]
  },
  {
   "cell_type": "markdown",
   "id": "b246e629-79e3-4600-a559-ea67d1936676",
   "metadata": {},
   "source": [
    "### Step One: Import the relevant libraries"
   ]
  },
  {
   "cell_type": "code",
   "execution_count": 3,
   "id": "af3c0fd3-0418-4d6d-bc43-71f84c9954a5",
   "metadata": {},
   "outputs": [],
   "source": [
    "import pandas as pd\n",
    "\n",
    "import numpy as np\n",
    "import seaborn as sns\n",
    "import matplotlib.pyplot as plt\n",
    "\n",
    "import warnings\n",
    "warnings.filterwarnings(\"ignore\", category=pd.errors.DtypeWarning)\n",
    "\n",
    "\n",
    "import scipy.stats as st"
   ]
  },
  {
   "cell_type": "markdown",
   "id": "7357ce60-6f28-4c77-aa27-738f82bb1064",
   "metadata": {},
   "source": [
    "### Step Two: Clean the Marathon Dataset"
   ]
  },
  {
   "cell_type": "code",
   "execution_count": 5,
   "id": "e260d0da-8b28-4ae5-8ceb-0e4c2db19c3d",
   "metadata": {},
   "outputs": [],
   "source": [
    "# Import the dataset"
   ]
  },
  {
   "cell_type": "code",
   "execution_count": 6,
   "id": "dc9be624-0388-4347-9ebf-191cc9ef7d5a",
   "metadata": {
    "scrolled": true
   },
   "outputs": [],
   "source": [
    "marathon = pd.read_csv('marathon_data.csv')"
   ]
  },
  {
   "cell_type": "code",
   "execution_count": 7,
   "id": "74c85f42-212c-4c9e-813c-d2646171f57b",
   "metadata": {},
   "outputs": [],
   "source": [
    "# Check the shape and a random sample of the dataset."
   ]
  },
  {
   "cell_type": "code",
   "execution_count": 8,
   "id": "f44543a3-dbd8-4417-bc71-e74536d4c449",
   "metadata": {},
   "outputs": [
    {
     "data": {
      "text/plain": [
       "(884944, 5)"
      ]
     },
     "execution_count": 8,
     "metadata": {},
     "output_type": "execute_result"
    }
   ],
   "source": [
    "marathon.shape"
   ]
  },
  {
   "cell_type": "code",
   "execution_count": 9,
   "id": "8b624c34-277a-44b1-82ad-a941d5058ef7",
   "metadata": {},
   "outputs": [
    {
     "data": {
      "text/html": [
       "<div>\n",
       "<style scoped>\n",
       "    .dataframe tbody tr th:only-of-type {\n",
       "        vertical-align: middle;\n",
       "    }\n",
       "\n",
       "    .dataframe tbody tr th {\n",
       "        vertical-align: top;\n",
       "    }\n",
       "\n",
       "    .dataframe thead th {\n",
       "        text-align: right;\n",
       "    }\n",
       "</style>\n",
       "<table border=\"1\" class=\"dataframe\">\n",
       "  <thead>\n",
       "    <tr style=\"text-align: right;\">\n",
       "      <th></th>\n",
       "      <th>YEAR</th>\n",
       "      <th>COUNTRY</th>\n",
       "      <th>GENDER</th>\n",
       "      <th>AGE</th>\n",
       "      <th>TIME</th>\n",
       "    </tr>\n",
       "  </thead>\n",
       "  <tbody>\n",
       "    <tr>\n",
       "      <th>85472</th>\n",
       "      <td>1990</td>\n",
       "      <td>NaN</td>\n",
       "      <td>male</td>\n",
       "      <td>20</td>\n",
       "      <td>03:20:00</td>\n",
       "    </tr>\n",
       "    <tr>\n",
       "      <th>34592</th>\n",
       "      <td>1986</td>\n",
       "      <td>NaN</td>\n",
       "      <td>male</td>\n",
       "      <td>35</td>\n",
       "      <td>03:30:00</td>\n",
       "    </tr>\n",
       "    <tr>\n",
       "      <th>439683</th>\n",
       "      <td>2007</td>\n",
       "      <td>NaN</td>\n",
       "      <td>male</td>\n",
       "      <td>30</td>\n",
       "      <td>03:38:20</td>\n",
       "    </tr>\n",
       "    <tr>\n",
       "      <th>694330</th>\n",
       "      <td>2014</td>\n",
       "      <td>NaN</td>\n",
       "      <td>male</td>\n",
       "      <td>50.0</td>\n",
       "      <td>04:35:11</td>\n",
       "    </tr>\n",
       "    <tr>\n",
       "      <th>60451</th>\n",
       "      <td>1988</td>\n",
       "      <td>NaN</td>\n",
       "      <td>male</td>\n",
       "      <td>20</td>\n",
       "      <td>03:37:00</td>\n",
       "    </tr>\n",
       "    <tr>\n",
       "      <th>861028</th>\n",
       "      <td>2019</td>\n",
       "      <td>BEL</td>\n",
       "      <td>male</td>\n",
       "      <td>45.0</td>\n",
       "      <td>03:26:26</td>\n",
       "    </tr>\n",
       "    <tr>\n",
       "      <th>199525</th>\n",
       "      <td>1998</td>\n",
       "      <td>NaN</td>\n",
       "      <td>female</td>\n",
       "      <td>20</td>\n",
       "      <td>03:01:54</td>\n",
       "    </tr>\n",
       "    <tr>\n",
       "      <th>243493</th>\n",
       "      <td>2000</td>\n",
       "      <td>NaN</td>\n",
       "      <td>male</td>\n",
       "      <td>30</td>\n",
       "      <td>03:36:36</td>\n",
       "    </tr>\n",
       "    <tr>\n",
       "      <th>411368</th>\n",
       "      <td>2006</td>\n",
       "      <td>NaN</td>\n",
       "      <td>female</td>\n",
       "      <td>20</td>\n",
       "      <td>03:54:44</td>\n",
       "    </tr>\n",
       "    <tr>\n",
       "      <th>96605</th>\n",
       "      <td>1990</td>\n",
       "      <td>NaN</td>\n",
       "      <td>male</td>\n",
       "      <td>40</td>\n",
       "      <td>04:06:00</td>\n",
       "    </tr>\n",
       "  </tbody>\n",
       "</table>\n",
       "</div>"
      ],
      "text/plain": [
       "        YEAR COUNTRY  GENDER   AGE      TIME\n",
       "85472   1990     NaN    male    20  03:20:00\n",
       "34592   1986     NaN    male    35  03:30:00\n",
       "439683  2007     NaN    male    30  03:38:20\n",
       "694330  2014     NaN    male  50.0  04:35:11\n",
       "60451   1988     NaN    male    20  03:37:00\n",
       "861028  2019     BEL    male  45.0  03:26:26\n",
       "199525  1998     NaN  female    20  03:01:54\n",
       "243493  2000     NaN    male    30  03:36:36\n",
       "411368  2006     NaN  female    20  03:54:44\n",
       "96605   1990     NaN    male    40  04:06:00"
      ]
     },
     "execution_count": 9,
     "metadata": {},
     "output_type": "execute_result"
    }
   ],
   "source": [
    "marathon.sample(10)"
   ]
  },
  {
   "cell_type": "code",
   "execution_count": 10,
   "id": "6268f220-e821-4037-b5e3-7887ce6b0ca3",
   "metadata": {},
   "outputs": [],
   "source": [
    "# Clean the 'YEAR' column."
   ]
  },
  {
   "cell_type": "code",
   "execution_count": 11,
   "id": "7c95213a-a41b-4c1b-bf89-f9a1ef9faa7f",
   "metadata": {},
   "outputs": [],
   "source": [
    "# Print out the years for which we have data."
   ]
  },
  {
   "cell_type": "code",
   "execution_count": 12,
   "id": "5d35b4db-ef35-4fb9-8232-ce2ccb82482f",
   "metadata": {},
   "outputs": [
    {
     "name": "stdout",
     "output_type": "stream",
     "text": [
      "YEAR\n",
      "1974      244\n",
      "1975      233\n",
      "1976      311\n",
      "1977      230\n",
      "1979      222\n",
      "1981     2561\n",
      "1982     3448\n",
      "1983     4841\n",
      "1984     7297\n",
      "1985     9810\n",
      "1986    11448\n",
      "1987    12673\n",
      "1988    13116\n",
      "1989    13382\n",
      "1990    20248\n",
      "1991    14759\n",
      "1992    13138\n",
      "1993    14102\n",
      "1994    12263\n",
      "1995    13086\n",
      "1996    15934\n",
      "1997    14982\n",
      "1998    21004\n",
      "1999    19129\n",
      "2000    22879\n",
      "2001    25792\n",
      "2002    25286\n",
      "2003    30709\n",
      "2004    28022\n",
      "2005    30373\n",
      "2006    30182\n",
      "2007    32486\n",
      "2008    35732\n",
      "2009    35015\n",
      "2010    34001\n",
      "2011    32914\n",
      "2012    34270\n",
      "2013    36473\n",
      "2014    28945\n",
      "2015    36753\n",
      "2016    35991\n",
      "2017    39223\n",
      "2018    40641\n",
      "2019    30796\n",
      "Name: count, dtype: int64\n"
     ]
    }
   ],
   "source": [
    "print(marathon[\"YEAR\"].value_counts().sort_index())"
   ]
  },
  {
   "cell_type": "code",
   "execution_count": 13,
   "id": "dc993f31-12b1-46b7-b22c-3375a0176275",
   "metadata": {},
   "outputs": [],
   "source": [
    "# Which years are missing?"
   ]
  },
  {
   "cell_type": "code",
   "execution_count": 14,
   "id": "13357620-3a00-4067-a9f1-234cea52c00c",
   "metadata": {},
   "outputs": [
    {
     "name": "stdout",
     "output_type": "stream",
     "text": [
      "{1978, 1980}\n"
     ]
    }
   ],
   "source": [
    "all_years = range(marathon[\"YEAR\"].min(), marathon[\"YEAR\"].max() + 1)\n",
    "\n",
    "missing_years = set(all_years) - set(marathon[\"YEAR\"].unique())\n",
    "\n",
    "print(missing_years)"
   ]
  },
  {
   "cell_type": "code",
   "execution_count": 15,
   "id": "89f1472d-1d6b-411d-8fd0-6d3bd5c12163",
   "metadata": {},
   "outputs": [],
   "source": [
    "# Here we can see that data is missing from the years 1978 and 1980.\n",
    "# My first thought was that the Marathon wasn't held during these years, but that proved not to be the case.\n",
    "# Then I thought perhaps the weather data was missing, but this also wasn't true.\n",
    "# This data is avalible on the Official Berlin Marathon website.\n",
    "# For future projects, I could use BeautifulSoup to scrape not only this missing data, but also the Marathons run since 2019.\n",
    "# For now I will leave these years out of my project."
   ]
  },
  {
   "cell_type": "code",
   "execution_count": 16,
   "id": "7f98955c-0ea0-42f9-97d6-fbb4389cb9f9",
   "metadata": {},
   "outputs": [],
   "source": [
    "# Clean the 'COUNTRY' column."
   ]
  },
  {
   "cell_type": "code",
   "execution_count": 17,
   "id": "d1ba25c1-9cc5-4fb5-be87-14dc0cee9090",
   "metadata": {},
   "outputs": [],
   "source": [
    "# I noticed in my sample that 9 of the 10 values were NaN, so it makes sense to check this first."
   ]
  },
  {
   "cell_type": "code",
   "execution_count": 18,
   "id": "696d5198-3938-48d6-884b-7f3bcf5f7645",
   "metadata": {},
   "outputs": [
    {
     "data": {
      "text/plain": [
       "854148"
      ]
     },
     "execution_count": 18,
     "metadata": {},
     "output_type": "execute_result"
    }
   ],
   "source": [
    "marathon[\"COUNTRY\"].isna().sum()"
   ]
  },
  {
   "cell_type": "code",
   "execution_count": 19,
   "id": "d4b81bbe-6cef-45a6-b4a7-6f880f2549cc",
   "metadata": {},
   "outputs": [],
   "source": [
    "NaN_COUNTRY = 854148 / len(marathon[\"COUNTRY\"]) * 100"
   ]
  },
  {
   "cell_type": "code",
   "execution_count": 20,
   "id": "f6f10c4a-aef4-4a75-b355-9d411381cc24",
   "metadata": {},
   "outputs": [
    {
     "data": {
      "text/plain": [
       "96.52000578567683"
      ]
     },
     "execution_count": 20,
     "metadata": {},
     "output_type": "execute_result"
    }
   ],
   "source": [
    "NaN_COUNTRY"
   ]
  },
  {
   "cell_type": "code",
   "execution_count": 21,
   "id": "104b7b0a-f7f1-4b87-8a40-a0b7eaee6574",
   "metadata": {},
   "outputs": [],
   "source": [
    "# The NaN percentage is extremely high (only data from 2019), so I will just drop this column."
   ]
  },
  {
   "cell_type": "code",
   "execution_count": 22,
   "id": "15ec92c3-03a4-41f7-a2b5-a477083086dc",
   "metadata": {},
   "outputs": [],
   "source": [
    "marathon.drop(columns=[\"COUNTRY\"], inplace=True)"
   ]
  },
  {
   "cell_type": "code",
   "execution_count": 23,
   "id": "b25772a1-4803-43f3-bdda-6a78b9502e07",
   "metadata": {},
   "outputs": [
    {
     "data": {
      "text/html": [
       "<div>\n",
       "<style scoped>\n",
       "    .dataframe tbody tr th:only-of-type {\n",
       "        vertical-align: middle;\n",
       "    }\n",
       "\n",
       "    .dataframe tbody tr th {\n",
       "        vertical-align: top;\n",
       "    }\n",
       "\n",
       "    .dataframe thead th {\n",
       "        text-align: right;\n",
       "    }\n",
       "</style>\n",
       "<table border=\"1\" class=\"dataframe\">\n",
       "  <thead>\n",
       "    <tr style=\"text-align: right;\">\n",
       "      <th></th>\n",
       "      <th>YEAR</th>\n",
       "      <th>GENDER</th>\n",
       "      <th>AGE</th>\n",
       "      <th>TIME</th>\n",
       "    </tr>\n",
       "  </thead>\n",
       "  <tbody>\n",
       "    <tr>\n",
       "      <th>0</th>\n",
       "      <td>1974</td>\n",
       "      <td>male</td>\n",
       "      <td>L1</td>\n",
       "      <td>02:44:53</td>\n",
       "    </tr>\n",
       "    <tr>\n",
       "      <th>1</th>\n",
       "      <td>1974</td>\n",
       "      <td>male</td>\n",
       "      <td>L2</td>\n",
       "      <td>02:46:43</td>\n",
       "    </tr>\n",
       "    <tr>\n",
       "      <th>2</th>\n",
       "      <td>1974</td>\n",
       "      <td>male</td>\n",
       "      <td>L2</td>\n",
       "      <td>02:48:08</td>\n",
       "    </tr>\n",
       "    <tr>\n",
       "      <th>3</th>\n",
       "      <td>1974</td>\n",
       "      <td>male</td>\n",
       "      <td>L</td>\n",
       "      <td>02:48:40</td>\n",
       "    </tr>\n",
       "    <tr>\n",
       "      <th>4</th>\n",
       "      <td>1974</td>\n",
       "      <td>male</td>\n",
       "      <td>L1</td>\n",
       "      <td>02:49:01</td>\n",
       "    </tr>\n",
       "  </tbody>\n",
       "</table>\n",
       "</div>"
      ],
      "text/plain": [
       "   YEAR GENDER AGE      TIME\n",
       "0  1974   male  L1  02:44:53\n",
       "1  1974   male  L2  02:46:43\n",
       "2  1974   male  L2  02:48:08\n",
       "3  1974   male   L  02:48:40\n",
       "4  1974   male  L1  02:49:01"
      ]
     },
     "execution_count": 23,
     "metadata": {},
     "output_type": "execute_result"
    }
   ],
   "source": [
    "marathon.head()"
   ]
  },
  {
   "cell_type": "code",
   "execution_count": 24,
   "id": "d517b2b9-686e-4972-9e07-b601e7b381db",
   "metadata": {},
   "outputs": [],
   "source": [
    "# Clean the 'AGE' column."
   ]
  },
  {
   "cell_type": "code",
   "execution_count": 25,
   "id": "d550788c-9f03-4c22-88ea-79d3da3ea2b0",
   "metadata": {},
   "outputs": [
    {
     "data": {
      "text/plain": [
       "AGE\n",
       "40     93608\n",
       "35     88567\n",
       "20     83745\n",
       "45     76964\n",
       "30     75050\n",
       "40     68135\n",
       "45     63539\n",
       "35     56380\n",
       "50     49426\n",
       "50     46897\n",
       "30     45074\n",
       "20     36873\n",
       "55     24504\n",
       "55     23081\n",
       "60     11454\n",
       "60     10669\n",
       "65      4660\n",
       "18      4493\n",
       "65      3659\n",
       "70      1500\n",
       "18      1110\n",
       "70      1064\n",
       "75       437\n",
       "A        235\n",
       "75       184\n",
       "L1       152\n",
       "L        131\n",
       "L2       106\n",
       "80        80\n",
       "B         56\n",
       "M0        50\n",
       "M         50\n",
       "BM        39\n",
       "L3        31\n",
       "80        30\n",
       "L4        16\n",
       "DH        15\n",
       "C         15\n",
       "DA         8\n",
       "D2         5\n",
       "D3         5\n",
       "D1         4\n",
       "DB         2\n",
       "M<         1\n",
       "DJ         1\n",
       "Ber        1\n",
       "Name: count, dtype: int64"
      ]
     },
     "execution_count": 25,
     "metadata": {},
     "output_type": "execute_result"
    }
   ],
   "source": [
    "marathon[\"AGE\"].value_counts()"
   ]
  },
  {
   "cell_type": "code",
   "execution_count": 26,
   "id": "d8901247-8af0-47e0-8c69-7593889108c9",
   "metadata": {},
   "outputs": [],
   "source": [
    "# The data is already formatted in terms of age brackets."
   ]
  },
  {
   "cell_type": "code",
   "execution_count": 27,
   "id": "1a4c5fa7-fb4b-49cc-a259-fe37fccc4271",
   "metadata": {},
   "outputs": [],
   "source": [
    "# Check NaNs"
   ]
  },
  {
   "cell_type": "code",
   "execution_count": 28,
   "id": "b2ecfc35-a168-489f-96a9-706c898b8e68",
   "metadata": {},
   "outputs": [
    {
     "data": {
      "text/plain": [
       "12838"
      ]
     },
     "execution_count": 28,
     "metadata": {},
     "output_type": "execute_result"
    }
   ],
   "source": [
    "marathon[\"AGE\"].isna().sum()"
   ]
  },
  {
   "cell_type": "code",
   "execution_count": 29,
   "id": "264e6188-345a-4893-aee2-aed92537663d",
   "metadata": {},
   "outputs": [
    {
     "data": {
      "text/plain": [
       "1.4507132654721655"
      ]
     },
     "execution_count": 29,
     "metadata": {},
     "output_type": "execute_result"
    }
   ],
   "source": [
    "12838 / len(marathon[\"AGE\"]) * 100"
   ]
  },
  {
   "cell_type": "code",
   "execution_count": 30,
   "id": "db4e255b-766b-4838-8873-d6b49c895cba",
   "metadata": {},
   "outputs": [],
   "source": [
    "# This is an acceptable level to work with."
   ]
  },
  {
   "cell_type": "code",
   "execution_count": 31,
   "id": "2522723b-b61a-4701-bd5f-8ba348dc472b",
   "metadata": {},
   "outputs": [],
   "source": [
    "# First want to take care of these non-numeric values (e.g. L1, DA...)"
   ]
  },
  {
   "cell_type": "code",
   "execution_count": 32,
   "id": "d8de2158-6ba3-4de7-bda3-609096b9faef",
   "metadata": {},
   "outputs": [],
   "source": [
    "# These non-numeric values comes from the early years of the Berlin Marathon.¶\n",
    "# I wasn't able to find precise definitions of these terms online.\n",
    "# I found that the winner of the inaugral Berlin Marathon, Günter Hallas, was 32 years old at the time and belonged to the L1 age bracket.\n",
    "# The third place runner, Günter Olbrich, was 41 and belonged to the L2 bracket.\n",
    "# From this data, I inferred that L = 20-30, L1 = 30-40, L2 = 40-50, L3 = 50-60, and L4 = 60-70\n",
    "# I'll make another assumption that D stands for Dame (i.e. Women) and has the corresponding age brackets.\n",
    "# Then, there are other brackets which were introduced from 1976 onwards.\n",
    "# I found that the 1976 winner, Ingo Sensburg, was 27 years old at the time and in the A age bracket.\n",
    "# Thus, I infer that A = 20-30, B = 30-40, C = 40-50, M = 50-60.\n",
    "# Now, there's another problem in that these labels cover two brackets (e.g. B should really belong to 30 and 35).\n",
    "# I considered splitting these 50:50 into each bracket, but given that this is a fraction of the dataset, I decided just to but them in the higher of each bracket."
   ]
  },
  {
   "cell_type": "code",
   "execution_count": 33,
   "id": "44c3a926-904a-476c-b152-7b5d57b16598",
   "metadata": {},
   "outputs": [],
   "source": [
    "# Mapping these new brackets."
   ]
  },
  {
   "cell_type": "code",
   "execution_count": 34,
   "id": "f16fbd75-2adc-42e9-935f-ea51a0932d45",
   "metadata": {},
   "outputs": [],
   "source": [
    "AGE_map = {\n",
    "    'L': '25',\n",
    "    'L1': '35',\n",
    "    'L2': '45',\n",
    "    'L3': '55',\n",
    "    'L4': '65',\n",
    "    'D1': '35',\n",
    "    'D2': '45',\n",
    "    'D3': '55',\n",
    "    'D4': '65',\n",
    "    'A': '25',\n",
    "    'B': '35',\n",
    "    'C': '45',\n",
    "    'M': '55'\n",
    "}"
   ]
  },
  {
   "cell_type": "code",
   "execution_count": 35,
   "id": "5a78adf3-5096-4cbb-80f2-5e951d797bc7",
   "metadata": {},
   "outputs": [],
   "source": [
    "marathon['AGE'] = marathon['AGE'].replace(AGE_map)"
   ]
  },
  {
   "cell_type": "code",
   "execution_count": 36,
   "id": "55105490-03d7-496b-ae11-2989146d7f0d",
   "metadata": {},
   "outputs": [
    {
     "data": {
      "text/plain": [
       "AGE\n",
       "40     93608\n",
       "35     88779\n",
       "20     83745\n",
       "45     77090\n",
       "30     75050\n",
       "40     68135\n",
       "45     63539\n",
       "35     56380\n",
       "50     49426\n",
       "50     46897\n",
       "30     45074\n",
       "20     36873\n",
       "55     24504\n",
       "55     23167\n",
       "60     11454\n",
       "60     10669\n",
       "65      4660\n",
       "18      4493\n",
       "65      3675\n",
       "70      1500\n",
       "18      1110\n",
       "70      1064\n",
       "75       437\n",
       "25       366\n",
       "75       184\n",
       "80        80\n",
       "M0        50\n",
       "BM        39\n",
       "80        30\n",
       "DH        15\n",
       "DA         8\n",
       "DB         2\n",
       "M<         1\n",
       "Ber        1\n",
       "DJ         1\n",
       "Name: count, dtype: int64"
      ]
     },
     "execution_count": 36,
     "metadata": {},
     "output_type": "execute_result"
    }
   ],
   "source": [
    "marathon['AGE'].value_counts()"
   ]
  },
  {
   "cell_type": "code",
   "execution_count": 37,
   "id": "393a3bd2-9d9a-4d3e-b353-2af057d22d4e",
   "metadata": {},
   "outputs": [],
   "source": [
    "# All remaining non-numeric data I will transform into NaNs."
   ]
  },
  {
   "cell_type": "code",
   "execution_count": 38,
   "id": "4aea6cb4-c5f0-4e82-b766-b14bb99cc098",
   "metadata": {},
   "outputs": [],
   "source": [
    "NaN_AGE = ['M0', 'BM', 'DH', 'DA', 'DB', 'M<', 'Ber', 'DJ']"
   ]
  },
  {
   "cell_type": "code",
   "execution_count": 39,
   "id": "d0d9da11-531d-4fed-8da5-69007173fc8f",
   "metadata": {},
   "outputs": [],
   "source": [
    "marathon['AGE'] = marathon['AGE'].replace(NaN_AGE, np.nan)"
   ]
  },
  {
   "cell_type": "code",
   "execution_count": 40,
   "id": "692e562f-e9a7-48ed-b6fb-9118220a3af8",
   "metadata": {},
   "outputs": [
    {
     "data": {
      "text/plain": [
       "AGE\n",
       "40    93608\n",
       "35    88779\n",
       "20    83745\n",
       "45    77090\n",
       "30    75050\n",
       "40    68135\n",
       "45    63539\n",
       "35    56380\n",
       "50    49426\n",
       "50    46897\n",
       "30    45074\n",
       "20    36873\n",
       "55    24504\n",
       "55    23167\n",
       "60    11454\n",
       "60    10669\n",
       "65     4660\n",
       "18     4493\n",
       "65     3675\n",
       "70     1500\n",
       "18     1110\n",
       "70     1064\n",
       "75      437\n",
       "25      366\n",
       "75      184\n",
       "80       80\n",
       "80       30\n",
       "Name: count, dtype: int64"
      ]
     },
     "execution_count": 40,
     "metadata": {},
     "output_type": "execute_result"
    }
   ],
   "source": [
    "marathon['AGE'].value_counts()"
   ]
  },
  {
   "cell_type": "code",
   "execution_count": 41,
   "id": "c1e97c1d-4b16-4788-9683-e15f5f8ad780",
   "metadata": {},
   "outputs": [],
   "source": [
    "# Here I prove that these NaNs are not significant, as they represent only 1/10000 of the dataset. "
   ]
  },
  {
   "cell_type": "code",
   "execution_count": 42,
   "id": "673fbf73-4f42-4d1b-809c-ff68c610c3c3",
   "metadata": {},
   "outputs": [
    {
     "data": {
      "text/plain": [
       "12955"
      ]
     },
     "execution_count": 42,
     "metadata": {},
     "output_type": "execute_result"
    }
   ],
   "source": [
    "marathon[\"AGE\"].isna().sum()"
   ]
  },
  {
   "cell_type": "code",
   "execution_count": 43,
   "id": "0a91ea38-14bc-46eb-91cb-bfff75e6a653",
   "metadata": {},
   "outputs": [
    {
     "data": {
      "text/plain": [
       "1.463934441049377"
      ]
     },
     "execution_count": 43,
     "metadata": {},
     "output_type": "execute_result"
    }
   ],
   "source": [
    "12955 / len(marathon[\"AGE\"]) * 100"
   ]
  },
  {
   "cell_type": "code",
   "execution_count": 44,
   "id": "6e433213-fce2-4c64-acf3-ca3adafbf17e",
   "metadata": {},
   "outputs": [],
   "source": [
    "# Next thing to clean is the duplicate entries (e.g. 40 appearing twice).\n",
    "# I suspect that this due to mixed data types.\n",
    "# I've chosen to convert everything to strings, as these make it easier to work with NaNs."
   ]
  },
  {
   "cell_type": "code",
   "execution_count": 45,
   "id": "eaaa5950-23b0-48f6-86ec-0cf1b8beeee0",
   "metadata": {},
   "outputs": [],
   "source": [
    "marathon['AGE'] = marathon['AGE'].astype(float)"
   ]
  },
  {
   "cell_type": "code",
   "execution_count": 46,
   "id": "b799ac14-876a-4860-ae5e-615dc73c1e6f",
   "metadata": {},
   "outputs": [
    {
     "data": {
      "text/plain": [
       "AGE\n",
       "18.0      5603\n",
       "20.0    120618\n",
       "25.0       366\n",
       "30.0    120124\n",
       "35.0    145159\n",
       "40.0    161743\n",
       "45.0    140629\n",
       "50.0     96323\n",
       "55.0     47671\n",
       "60.0     22123\n",
       "65.0      8335\n",
       "70.0      2564\n",
       "75.0       621\n",
       "80.0       110\n",
       "Name: count, dtype: int64"
      ]
     },
     "execution_count": 46,
     "metadata": {},
     "output_type": "execute_result"
    }
   ],
   "source": [
    "marathon['AGE'].value_counts().sort_index()"
   ]
  },
  {
   "cell_type": "code",
   "execution_count": 47,
   "id": "e6e2bc3e-8fe2-4e27-aba6-1adcc930c01f",
   "metadata": {},
   "outputs": [],
   "source": [
    "# Clean the 'TIME' column."
   ]
  },
  {
   "cell_type": "code",
   "execution_count": 48,
   "id": "f2096029-73b0-420d-9159-f5304991428c",
   "metadata": {},
   "outputs": [
    {
     "data": {
      "text/plain": [
       "TIME\n",
       "no time     2405\n",
       "03:29:00    1393\n",
       "03:27:00    1250\n",
       "03:28:00    1247\n",
       "03:43:00    1240\n",
       "            ... \n",
       "06:47:25       1\n",
       "06:46:14       1\n",
       "06:44:28       1\n",
       "06:42:31       1\n",
       "07:26:09       1\n",
       "Name: count, Length: 16232, dtype: int64"
      ]
     },
     "execution_count": 48,
     "metadata": {},
     "output_type": "execute_result"
    }
   ],
   "source": [
    "marathon[\"TIME\"].value_counts()"
   ]
  },
  {
   "cell_type": "code",
   "execution_count": 49,
   "id": "2e736441-491a-4f71-b610-b727b928dea1",
   "metadata": {},
   "outputs": [],
   "source": [
    "# Calculate the percentage represented by 'no time'."
   ]
  },
  {
   "cell_type": "code",
   "execution_count": 50,
   "id": "6c0e4924-5758-444d-89f2-95124d61a7f3",
   "metadata": {},
   "outputs": [
    {
     "data": {
      "text/plain": [
       "0.27176860908712863"
      ]
     },
     "execution_count": 50,
     "metadata": {},
     "output_type": "execute_result"
    }
   ],
   "source": [
    "2405 / len(marathon[\"AGE\"]) * 100"
   ]
  },
  {
   "cell_type": "code",
   "execution_count": 51,
   "id": "cd58bef1-bbc1-4b4d-9b28-b222e38d905d",
   "metadata": {},
   "outputs": [],
   "source": [
    "# 'no time' probably refers to DNF ('Did Not Finish'), but this seems far too low given the size of the dataset.\n",
    "# Need to investigate this further."
   ]
  },
  {
   "cell_type": "code",
   "execution_count": 52,
   "id": "e2d5398e-6602-4e95-9d1d-5d9f073c3974",
   "metadata": {},
   "outputs": [],
   "source": [
    "# Here I check 'no time' by year."
   ]
  },
  {
   "cell_type": "code",
   "execution_count": 53,
   "id": "e8d1086b-1057-4673-a4e5-4c0e52487b87",
   "metadata": {},
   "outputs": [],
   "source": [
    "NO_TIME = marathon[marathon['TIME'] == 'no time']"
   ]
  },
  {
   "cell_type": "code",
   "execution_count": 54,
   "id": "3b0c95a5-f13b-4b5a-a522-8587efec5a29",
   "metadata": {},
   "outputs": [
    {
     "data": {
      "text/plain": [
       "YEAR\n",
       "1977       2\n",
       "1981      15\n",
       "1984       3\n",
       "1985       8\n",
       "1987       2\n",
       "1988     274\n",
       "1989      45\n",
       "1990       2\n",
       "1991       2\n",
       "1992    1325\n",
       "1993       1\n",
       "1994     337\n",
       "1995     386\n",
       "1996       2\n",
       "1998       1\n",
       "Name: count, dtype: int64"
      ]
     },
     "execution_count": 54,
     "metadata": {},
     "output_type": "execute_result"
    }
   ],
   "source": [
    "NO_TIME[\"YEAR\"].value_counts().sort_index()"
   ]
  },
  {
   "cell_type": "code",
   "execution_count": 55,
   "id": "9ea81d48-6471-479f-807e-ad4876b4e4bf",
   "metadata": {},
   "outputs": [],
   "source": [
    "# Now to find which years aren't represented."
   ]
  },
  {
   "cell_type": "code",
   "execution_count": 56,
   "id": "88620ff5-5d3e-485e-9bbc-de2c06dfb13c",
   "metadata": {},
   "outputs": [
    {
     "name": "stdout",
     "output_type": "stream",
     "text": [
      "{1974, 1975, 1976, 1979, 1982, 1983, 1986, 1997, 1999, 2000, 2001, 2002, 2003, 2004, 2005, 2006, 2007, 2008, 2009, 2010, 2011, 2012, 2013, 2014, 2015, 2016, 2017, 2018, 2019}\n"
     ]
    },
    {
     "data": {
      "text/plain": [
       "29"
      ]
     },
     "execution_count": 56,
     "metadata": {},
     "output_type": "execute_result"
    }
   ],
   "source": [
    "marathon_years = set(marathon[\"YEAR\"].unique())\n",
    "DNF_years = set(NO_TIME[\"YEAR\"].unique())\n",
    "\n",
    "missing_years_DNF = marathon_years - DNF_years\n",
    "\n",
    "print(missing_years_DNF)\n",
    "len(missing_years_DNF)"
   ]
  },
  {
   "cell_type": "code",
   "execution_count": 57,
   "id": "4d02d097-ffb5-4b94-aa5f-37140526ba88",
   "metadata": {},
   "outputs": [],
   "source": [
    "# As i suspected, the info related to 'no time' is incomplete, with no data from 29 years.\n",
    "# DNFs are also expected to be normally distributed, but the value spread within the data we have makes no sense.\n",
    "# Further research showed that over 20,000 people ran the Berlin Marathon in 1998; the idea that only one person didn't finish is risible.\n",
    "# So, I am going to drop these values and treat the dataset as 'Finishers Only'."
   ]
  },
  {
   "cell_type": "code",
   "execution_count": 58,
   "id": "8620c34d-3f1c-42d6-bbc9-f975cb18d133",
   "metadata": {},
   "outputs": [],
   "source": [
    "marathon = marathon[marathon['TIME'] != 'no time']"
   ]
  },
  {
   "cell_type": "code",
   "execution_count": 59,
   "id": "87789da4-91af-48f7-ac8c-e6a0bb1df6f1",
   "metadata": {},
   "outputs": [
    {
     "data": {
      "text/plain": [
       "TIME\n",
       "03:29:00    1393\n",
       "03:27:00    1250\n",
       "03:28:00    1247\n",
       "03:43:00    1240\n",
       "03:39:00    1171\n",
       "            ... \n",
       "06:47:25       1\n",
       "06:46:14       1\n",
       "06:44:28       1\n",
       "06:42:31       1\n",
       "07:26:09       1\n",
       "Name: count, Length: 16231, dtype: int64"
      ]
     },
     "execution_count": 59,
     "metadata": {},
     "output_type": "execute_result"
    }
   ],
   "source": [
    "marathon[\"TIME\"].value_counts()"
   ]
  },
  {
   "cell_type": "code",
   "execution_count": 60,
   "id": "bdbe7656-23ca-4456-9621-c598ab37e236",
   "metadata": {},
   "outputs": [
    {
     "data": {
      "text/plain": [
       "count       882539\n",
       "unique       16231\n",
       "top       03:29:00\n",
       "freq          1393\n",
       "Name: TIME, dtype: object"
      ]
     },
     "execution_count": 60,
     "metadata": {},
     "output_type": "execute_result"
    }
   ],
   "source": [
    "marathon[\"TIME\"].describe()"
   ]
  },
  {
   "cell_type": "code",
   "execution_count": 61,
   "id": "acafe22d-513b-485f-8fe4-0023c5119d45",
   "metadata": {},
   "outputs": [
    {
     "data": {
      "text/plain": [
       "0"
      ]
     },
     "execution_count": 61,
     "metadata": {},
     "output_type": "execute_result"
    }
   ],
   "source": [
    "marathon['TIME'].isna().sum()"
   ]
  },
  {
   "cell_type": "code",
   "execution_count": 62,
   "id": "3cad2488-cf39-4059-9a02-7f63be73147c",
   "metadata": {
    "scrolled": true
   },
   "outputs": [
    {
     "data": {
      "text/plain": [
       "'02:01:39'"
      ]
     },
     "execution_count": 62,
     "metadata": {},
     "output_type": "execute_result"
    }
   ],
   "source": [
    "marathon['TIME'].min()"
   ]
  },
  {
   "cell_type": "code",
   "execution_count": 63,
   "id": "efc6b71a-4ae7-429b-84ec-86f9ff92ce42",
   "metadata": {},
   "outputs": [
    {
     "data": {
      "text/plain": [
       "'09:49:41'"
      ]
     },
     "execution_count": 63,
     "metadata": {},
     "output_type": "execute_result"
    }
   ],
   "source": [
    "marathon['TIME'].max()"
   ]
  },
  {
   "cell_type": "code",
   "execution_count": 64,
   "id": "b3650f07-b1d3-4086-8791-fb461a93cd09",
   "metadata": {},
   "outputs": [],
   "source": [
    "# looks like this part has been cleaned alredy actually -- looking at results from 1981 (on the official website) i see 154:28:00 + 109:40:00\n",
    "# so looks tidy, values are in a range i'd expect ...\n",
    "\n",
    "# might need to clean these outliers -- cut of time of 6hr right ?"
   ]
  },
  {
   "cell_type": "markdown",
   "id": "2af5535e-bf71-432a-af60-878033ba8e85",
   "metadata": {},
   "source": [
    "### Step Three: Clean the Weather Dataset"
   ]
  },
  {
   "cell_type": "code",
   "execution_count": 66,
   "id": "3cacc019-7c23-4cfb-9c77-52b49b36563a",
   "metadata": {},
   "outputs": [],
   "source": [
    "weather = pd.read_csv('weather_data.csv')"
   ]
  },
  {
   "cell_type": "code",
   "execution_count": 67,
   "id": "788f2adf-f19b-4ab2-a87f-a7596a8ad706",
   "metadata": {},
   "outputs": [
    {
     "data": {
      "text/plain": [
       "(46, 8)"
      ]
     },
     "execution_count": 67,
     "metadata": {},
     "output_type": "execute_result"
    }
   ],
   "source": [
    "weather.shape"
   ]
  },
  {
   "cell_type": "code",
   "execution_count": 68,
   "id": "4744d81b-636c-442b-a256-fd92ae04e7e2",
   "metadata": {},
   "outputs": [
    {
     "data": {
      "text/html": [
       "<div>\n",
       "<style scoped>\n",
       "    .dataframe tbody tr th:only-of-type {\n",
       "        vertical-align: middle;\n",
       "    }\n",
       "\n",
       "    .dataframe tbody tr th {\n",
       "        vertical-align: top;\n",
       "    }\n",
       "\n",
       "    .dataframe thead th {\n",
       "        text-align: right;\n",
       "    }\n",
       "</style>\n",
       "<table border=\"1\" class=\"dataframe\">\n",
       "  <thead>\n",
       "    <tr style=\"text-align: right;\">\n",
       "      <th></th>\n",
       "      <th>YEAR</th>\n",
       "      <th>PRECIP_mm</th>\n",
       "      <th>SUNSHINE_hrs</th>\n",
       "      <th>CLOUD_hrs</th>\n",
       "      <th>ATMOS_PRESS_mbar</th>\n",
       "      <th>AVG_TEMP_C</th>\n",
       "      <th>MAX_TEMP_C</th>\n",
       "      <th>MIN_TEMP_C</th>\n",
       "    </tr>\n",
       "  </thead>\n",
       "  <tbody>\n",
       "    <tr>\n",
       "      <th>0</th>\n",
       "      <td>1974</td>\n",
       "      <td>0.0</td>\n",
       "      <td>0.2</td>\n",
       "      <td>7.0</td>\n",
       "      <td>1009.5</td>\n",
       "      <td>5.4</td>\n",
       "      <td>8.8</td>\n",
       "      <td>1.1</td>\n",
       "    </tr>\n",
       "    <tr>\n",
       "      <th>1</th>\n",
       "      <td>1975</td>\n",
       "      <td>4.2</td>\n",
       "      <td>9.4</td>\n",
       "      <td>3.0</td>\n",
       "      <td>1011.4</td>\n",
       "      <td>14.3</td>\n",
       "      <td>20.1</td>\n",
       "      <td>9.5</td>\n",
       "    </tr>\n",
       "    <tr>\n",
       "      <th>2</th>\n",
       "      <td>1976</td>\n",
       "      <td>3.0</td>\n",
       "      <td>10.2</td>\n",
       "      <td>3.3</td>\n",
       "      <td>1010.4</td>\n",
       "      <td>12.8</td>\n",
       "      <td>18.0</td>\n",
       "      <td>7.3</td>\n",
       "    </tr>\n",
       "    <tr>\n",
       "      <th>3</th>\n",
       "      <td>1977</td>\n",
       "      <td>11.2</td>\n",
       "      <td>0.0</td>\n",
       "      <td>8.0</td>\n",
       "      <td>1013.1</td>\n",
       "      <td>9.7</td>\n",
       "      <td>12.5</td>\n",
       "      <td>7.4</td>\n",
       "    </tr>\n",
       "    <tr>\n",
       "      <th>4</th>\n",
       "      <td>1978</td>\n",
       "      <td>1.8</td>\n",
       "      <td>2.7</td>\n",
       "      <td>6.0</td>\n",
       "      <td>1000.6</td>\n",
       "      <td>11.2</td>\n",
       "      <td>14.5</td>\n",
       "      <td>9.4</td>\n",
       "    </tr>\n",
       "  </tbody>\n",
       "</table>\n",
       "</div>"
      ],
      "text/plain": [
       "   YEAR  PRECIP_mm  SUNSHINE_hrs  CLOUD_hrs  ATMOS_PRESS_mbar  AVG_TEMP_C  \\\n",
       "0  1974        0.0           0.2        7.0            1009.5         5.4   \n",
       "1  1975        4.2           9.4        3.0            1011.4        14.3   \n",
       "2  1976        3.0          10.2        3.3            1010.4        12.8   \n",
       "3  1977       11.2           0.0        8.0            1013.1         9.7   \n",
       "4  1978        1.8           2.7        6.0            1000.6        11.2   \n",
       "\n",
       "   MAX_TEMP_C  MIN_TEMP_C  \n",
       "0         8.8         1.1  \n",
       "1        20.1         9.5  \n",
       "2        18.0         7.3  \n",
       "3        12.5         7.4  \n",
       "4        14.5         9.4  "
      ]
     },
     "execution_count": 68,
     "metadata": {},
     "output_type": "execute_result"
    }
   ],
   "source": [
    "weather.head(5)"
   ]
  },
  {
   "cell_type": "code",
   "execution_count": 69,
   "id": "646f898b-cd08-4425-992d-0c7c94526289",
   "metadata": {},
   "outputs": [],
   "source": [
    "# as above, i may as well drop years 1978 + 1980"
   ]
  },
  {
   "cell_type": "code",
   "execution_count": 70,
   "id": "c9114446-5112-419d-b635-a9e40565d5f5",
   "metadata": {},
   "outputs": [],
   "source": [
    "weather = weather[(weather['YEAR'] != 1978) & (weather['YEAR'] != 1980)]"
   ]
  },
  {
   "cell_type": "code",
   "execution_count": 71,
   "id": "fb923460-cbb1-48e6-8c7f-51e6d7db4153",
   "metadata": {},
   "outputs": [],
   "source": [
    "# check for null values"
   ]
  },
  {
   "cell_type": "code",
   "execution_count": 72,
   "id": "02620b62-eb82-4ea5-b8f9-efeee17d3a7c",
   "metadata": {},
   "outputs": [
    {
     "data": {
      "text/plain": [
       "YEAR                0\n",
       "PRECIP_mm           0\n",
       "SUNSHINE_hrs        0\n",
       "CLOUD_hrs           0\n",
       "ATMOS_PRESS_mbar    0\n",
       "AVG_TEMP_C          0\n",
       "MAX_TEMP_C          0\n",
       "MIN_TEMP_C          0\n",
       "dtype: int64"
      ]
     },
     "execution_count": 72,
     "metadata": {},
     "output_type": "execute_result"
    }
   ],
   "source": [
    "weather.isnull().sum()"
   ]
  },
  {
   "cell_type": "code",
   "execution_count": 73,
   "id": "9764fd5a-229a-4982-a337-816e319922c8",
   "metadata": {},
   "outputs": [
    {
     "data": {
      "text/html": [
       "<div>\n",
       "<style scoped>\n",
       "    .dataframe tbody tr th:only-of-type {\n",
       "        vertical-align: middle;\n",
       "    }\n",
       "\n",
       "    .dataframe tbody tr th {\n",
       "        vertical-align: top;\n",
       "    }\n",
       "\n",
       "    .dataframe thead th {\n",
       "        text-align: right;\n",
       "    }\n",
       "</style>\n",
       "<table border=\"1\" class=\"dataframe\">\n",
       "  <thead>\n",
       "    <tr style=\"text-align: right;\">\n",
       "      <th></th>\n",
       "      <th>count</th>\n",
       "      <th>mean</th>\n",
       "      <th>std</th>\n",
       "      <th>min</th>\n",
       "      <th>25%</th>\n",
       "      <th>50%</th>\n",
       "      <th>75%</th>\n",
       "      <th>max</th>\n",
       "    </tr>\n",
       "  </thead>\n",
       "  <tbody>\n",
       "    <tr>\n",
       "      <th>YEAR</th>\n",
       "      <td>44.0</td>\n",
       "      <td>1997.295455</td>\n",
       "      <td>13.176052</td>\n",
       "      <td>1974.00</td>\n",
       "      <td>1986.750</td>\n",
       "      <td>1997.50</td>\n",
       "      <td>2008.250</td>\n",
       "      <td>2019.0</td>\n",
       "    </tr>\n",
       "    <tr>\n",
       "      <th>PRECIP_mm</th>\n",
       "      <td>44.0</td>\n",
       "      <td>2.025000</td>\n",
       "      <td>5.113781</td>\n",
       "      <td>0.00</td>\n",
       "      <td>0.000</td>\n",
       "      <td>0.00</td>\n",
       "      <td>0.825</td>\n",
       "      <td>29.8</td>\n",
       "    </tr>\n",
       "    <tr>\n",
       "      <th>SUNSHINE_hrs</th>\n",
       "      <td>44.0</td>\n",
       "      <td>5.592955</td>\n",
       "      <td>4.562156</td>\n",
       "      <td>0.00</td>\n",
       "      <td>0.675</td>\n",
       "      <td>6.95</td>\n",
       "      <td>9.950</td>\n",
       "      <td>11.4</td>\n",
       "    </tr>\n",
       "    <tr>\n",
       "      <th>CLOUD_hrs</th>\n",
       "      <td>44.0</td>\n",
       "      <td>4.540909</td>\n",
       "      <td>2.662602</td>\n",
       "      <td>0.10</td>\n",
       "      <td>2.000</td>\n",
       "      <td>5.00</td>\n",
       "      <td>7.075</td>\n",
       "      <td>8.0</td>\n",
       "    </tr>\n",
       "    <tr>\n",
       "      <th>ATMOS_PRESS_mbar</th>\n",
       "      <td>44.0</td>\n",
       "      <td>1009.834545</td>\n",
       "      <td>7.995606</td>\n",
       "      <td>993.62</td>\n",
       "      <td>1005.725</td>\n",
       "      <td>1010.35</td>\n",
       "      <td>1013.890</td>\n",
       "      <td>1026.8</td>\n",
       "    </tr>\n",
       "    <tr>\n",
       "      <th>AVG_TEMP_C</th>\n",
       "      <td>44.0</td>\n",
       "      <td>12.802273</td>\n",
       "      <td>2.663490</td>\n",
       "      <td>5.40</td>\n",
       "      <td>11.025</td>\n",
       "      <td>12.90</td>\n",
       "      <td>14.325</td>\n",
       "      <td>19.4</td>\n",
       "    </tr>\n",
       "    <tr>\n",
       "      <th>MAX_TEMP_C</th>\n",
       "      <td>44.0</td>\n",
       "      <td>18.111364</td>\n",
       "      <td>3.849084</td>\n",
       "      <td>8.80</td>\n",
       "      <td>15.400</td>\n",
       "      <td>17.85</td>\n",
       "      <td>20.525</td>\n",
       "      <td>27.6</td>\n",
       "    </tr>\n",
       "    <tr>\n",
       "      <th>MIN_TEMP_C</th>\n",
       "      <td>44.0</td>\n",
       "      <td>8.381818</td>\n",
       "      <td>3.118980</td>\n",
       "      <td>1.10</td>\n",
       "      <td>5.850</td>\n",
       "      <td>8.65</td>\n",
       "      <td>10.725</td>\n",
       "      <td>14.8</td>\n",
       "    </tr>\n",
       "  </tbody>\n",
       "</table>\n",
       "</div>"
      ],
      "text/plain": [
       "                  count         mean        std      min       25%      50%  \\\n",
       "YEAR               44.0  1997.295455  13.176052  1974.00  1986.750  1997.50   \n",
       "PRECIP_mm          44.0     2.025000   5.113781     0.00     0.000     0.00   \n",
       "SUNSHINE_hrs       44.0     5.592955   4.562156     0.00     0.675     6.95   \n",
       "CLOUD_hrs          44.0     4.540909   2.662602     0.10     2.000     5.00   \n",
       "ATMOS_PRESS_mbar   44.0  1009.834545   7.995606   993.62  1005.725  1010.35   \n",
       "AVG_TEMP_C         44.0    12.802273   2.663490     5.40    11.025    12.90   \n",
       "MAX_TEMP_C         44.0    18.111364   3.849084     8.80    15.400    17.85   \n",
       "MIN_TEMP_C         44.0     8.381818   3.118980     1.10     5.850     8.65   \n",
       "\n",
       "                       75%     max  \n",
       "YEAR              2008.250  2019.0  \n",
       "PRECIP_mm            0.825    29.8  \n",
       "SUNSHINE_hrs         9.950    11.4  \n",
       "CLOUD_hrs            7.075     8.0  \n",
       "ATMOS_PRESS_mbar  1013.890  1026.8  \n",
       "AVG_TEMP_C          14.325    19.4  \n",
       "MAX_TEMP_C          20.525    27.6  \n",
       "MIN_TEMP_C          10.725    14.8  "
      ]
     },
     "execution_count": 73,
     "metadata": {},
     "output_type": "execute_result"
    }
   ],
   "source": [
    "weather.describe().T"
   ]
  },
  {
   "cell_type": "code",
   "execution_count": 74,
   "id": "0aa18f19-52ae-4d8b-8bce-d38ed95a58fb",
   "metadata": {},
   "outputs": [],
   "source": [
    "# In order to better work with the data, going to convert it from numerical to catergorical data.\n",
    "# I will define 3 labels: \n",
    "\n",
    "# Rain: 0 mm = \"No Rain\", 1-10 mm = \"Light Rain\", 11-20 mm = \"Moderate Rain\", 21+ mm = \"Heavy Rain\".\n",
    "# Clouds: 0-2 hrs = \"Light Clouds\", 3-4 hrs = \"Moderate Clouds\", 5+ hrs = \"Heavy Clouds\".\n",
    "# Temperature: 5-10°C = \"Cold\", 10-15°C = \"Warm\", 15-20°C = \"Hot\".\n",
    "\n",
    "# Atmosphere pressure I will discard as its mainly related to whether the weather is rainy or not, can instead use PRECIP.\n",
    "# Max and min temp I will discard for convience and use average temperature.\n",
    "\n",
    "# Probably if i was doing machine learning on the dataset I would probably discard these buckets."
   ]
  },
  {
   "cell_type": "code",
   "execution_count": 75,
   "id": "a309ef98-c2e5-4876-beb3-1c80f68eb37f",
   "metadata": {},
   "outputs": [],
   "source": [
    "# Now I can have an in-depth look at my most important columns:\n",
    "# PRECIP_mm, CLOUD_hrs, AVG_TEMP_C"
   ]
  },
  {
   "cell_type": "code",
   "execution_count": 76,
   "id": "345aec86-336d-456b-9ce2-3989dd3d7e14",
   "metadata": {},
   "outputs": [
    {
     "data": {
      "text/plain": [
       "array([ 0. ,  0.1,  0.3,  0.5,  0.6,  0.7,  1.2,  3. ,  3.9,  4.2,  4.5,\n",
       "        7. ,  8. ,  9.8, 11.2, 29.8])"
      ]
     },
     "execution_count": 76,
     "metadata": {},
     "output_type": "execute_result"
    }
   ],
   "source": [
    "weather['PRECIP_mm'].sort_values().unique()"
   ]
  },
  {
   "cell_type": "code",
   "execution_count": 77,
   "id": "5994decb-5d09-49b9-b636-76f7c8cb0923",
   "metadata": {},
   "outputs": [
    {
     "data": {
      "text/plain": [
       "array([0.1, 0.3, 0.6, 0.8, 1. , 1.4, 1.6, 2. , 2.2, 2.3, 3. , 3.3, 4.3,\n",
       "       4.5, 4.7, 5. , 5.6, 5.7, 6.3, 6.5, 6.8, 7. , 7.3, 7.5, 7.8, 8. ])"
      ]
     },
     "execution_count": 77,
     "metadata": {},
     "output_type": "execute_result"
    }
   ],
   "source": [
    "weather['CLOUD_hrs'].sort_values().unique()"
   ]
  },
  {
   "cell_type": "code",
   "execution_count": 78,
   "id": "21397265-fd10-4e0e-a3d5-5032e3ec2278",
   "metadata": {},
   "outputs": [
    {
     "data": {
      "text/plain": [
       "array([ 5.4,  8.4,  8.9,  9.7, 10. , 10.1, 10.3, 10.5, 10.8, 11.1, 11.2,\n",
       "       11.3, 11.5, 11.7, 12. , 12.4, 12.6, 12.7, 12.8, 13. , 13.1, 13.6,\n",
       "       13.8, 13.9, 14. , 14.2, 14.3, 14.4, 14.5, 14.9, 15.1, 15.2, 15.8,\n",
       "       16.3, 16.8, 17.6, 19.4])"
      ]
     },
     "execution_count": 78,
     "metadata": {},
     "output_type": "execute_result"
    }
   ],
   "source": [
    "weather['AVG_TEMP_C'].sort_values().unique()"
   ]
  },
  {
   "cell_type": "code",
   "execution_count": 79,
   "id": "566211d6-f929-4afe-b96d-90c20a1827a0",
   "metadata": {},
   "outputs": [],
   "source": [
    "# All looking good, so will now create some functions to bring this into a new dataframe, while preserving the year."
   ]
  },
  {
   "cell_type": "code",
   "execution_count": 80,
   "id": "3ec431f6-b158-495c-b71f-4f40e9fe572e",
   "metadata": {},
   "outputs": [],
   "source": [
    "def rain(mm):\n",
    "    if mm == 0:\n",
    "        return 'No Rain'\n",
    "    elif mm <= 10:\n",
    "        return 'Light Rain'\n",
    "    elif mm <= 20:\n",
    "        return 'Moderate Rain'\n",
    "    else:\n",
    "        return 'Heavy Rain'"
   ]
  },
  {
   "cell_type": "code",
   "execution_count": 81,
   "id": "6b545c31-4863-4034-8ec6-0149e03d11a8",
   "metadata": {},
   "outputs": [],
   "source": [
    "def clouds(hrs):\n",
    "    if hrs <= 2:\n",
    "        return 'Light Clouds'\n",
    "    elif hrs <= 4:\n",
    "        return 'Moderate Clouds'\n",
    "    else:\n",
    "        return 'Heavy Clouds'"
   ]
  },
  {
   "cell_type": "code",
   "execution_count": 82,
   "id": "87c095f9-c802-4bd1-a6b2-d1de8b6939ba",
   "metadata": {},
   "outputs": [],
   "source": [
    "def temperature(C):\n",
    "    if C <= 10:\n",
    "        return 'Cold'\n",
    "    elif C <= 15:\n",
    "        return 'Warm'\n",
    "    else:\n",
    "        return 'Hot'"
   ]
  },
  {
   "cell_type": "code",
   "execution_count": 83,
   "id": "0415b069-74f1-4c37-b7f2-41e0e44ccff7",
   "metadata": {},
   "outputs": [],
   "source": [
    "weather['PRECIP_CATEGORY'] = weather['PRECIP_mm'].apply(rain)\n",
    "weather['CLOUD_CATEGORY'] = weather['CLOUD_hrs'].apply(clouds)\n",
    "weather['TEMP_CATEGORY'] = weather['AVG_TEMP_C'].apply(temperature)"
   ]
  },
  {
   "cell_type": "code",
   "execution_count": 84,
   "id": "6300c62a-d512-4373-a843-21d2d1c20677",
   "metadata": {},
   "outputs": [],
   "source": [
    "# OK, now need to double check whether the values were inputted correctly."
   ]
  },
  {
   "cell_type": "code",
   "execution_count": 85,
   "id": "43e49853-cf74-4fac-981f-2c825fba26f4",
   "metadata": {},
   "outputs": [
    {
     "data": {
      "text/html": [
       "<div>\n",
       "<style scoped>\n",
       "    .dataframe tbody tr th:only-of-type {\n",
       "        vertical-align: middle;\n",
       "    }\n",
       "\n",
       "    .dataframe tbody tr th {\n",
       "        vertical-align: top;\n",
       "    }\n",
       "\n",
       "    .dataframe thead th {\n",
       "        text-align: right;\n",
       "    }\n",
       "</style>\n",
       "<table border=\"1\" class=\"dataframe\">\n",
       "  <thead>\n",
       "    <tr style=\"text-align: right;\">\n",
       "      <th></th>\n",
       "      <th>YEAR</th>\n",
       "      <th>PRECIP_mm</th>\n",
       "      <th>SUNSHINE_hrs</th>\n",
       "      <th>CLOUD_hrs</th>\n",
       "      <th>ATMOS_PRESS_mbar</th>\n",
       "      <th>AVG_TEMP_C</th>\n",
       "      <th>MAX_TEMP_C</th>\n",
       "      <th>MIN_TEMP_C</th>\n",
       "      <th>PRECIP_CATEGORY</th>\n",
       "      <th>CLOUD_CATEGORY</th>\n",
       "      <th>TEMP_CATEGORY</th>\n",
       "    </tr>\n",
       "  </thead>\n",
       "  <tbody>\n",
       "    <tr>\n",
       "      <th>22</th>\n",
       "      <td>1996</td>\n",
       "      <td>7.0</td>\n",
       "      <td>0.00</td>\n",
       "      <td>8.0</td>\n",
       "      <td>1010.40</td>\n",
       "      <td>11.7</td>\n",
       "      <td>14.1</td>\n",
       "      <td>6.7</td>\n",
       "      <td>Light Rain</td>\n",
       "      <td>Heavy Clouds</td>\n",
       "      <td>Warm</td>\n",
       "    </tr>\n",
       "    <tr>\n",
       "      <th>3</th>\n",
       "      <td>1977</td>\n",
       "      <td>11.2</td>\n",
       "      <td>0.00</td>\n",
       "      <td>8.0</td>\n",
       "      <td>1013.10</td>\n",
       "      <td>9.7</td>\n",
       "      <td>12.5</td>\n",
       "      <td>7.4</td>\n",
       "      <td>Moderate Rain</td>\n",
       "      <td>Heavy Clouds</td>\n",
       "      <td>Cold</td>\n",
       "    </tr>\n",
       "    <tr>\n",
       "      <th>29</th>\n",
       "      <td>2003</td>\n",
       "      <td>9.8</td>\n",
       "      <td>7.40</td>\n",
       "      <td>4.3</td>\n",
       "      <td>1005.90</td>\n",
       "      <td>12.0</td>\n",
       "      <td>18.7</td>\n",
       "      <td>4.4</td>\n",
       "      <td>Light Rain</td>\n",
       "      <td>Heavy Clouds</td>\n",
       "      <td>Warm</td>\n",
       "    </tr>\n",
       "    <tr>\n",
       "      <th>44</th>\n",
       "      <td>2018</td>\n",
       "      <td>0.0</td>\n",
       "      <td>7.75</td>\n",
       "      <td>5.6</td>\n",
       "      <td>1013.82</td>\n",
       "      <td>14.9</td>\n",
       "      <td>22.4</td>\n",
       "      <td>9.0</td>\n",
       "      <td>No Rain</td>\n",
       "      <td>Heavy Clouds</td>\n",
       "      <td>Warm</td>\n",
       "    </tr>\n",
       "    <tr>\n",
       "      <th>19</th>\n",
       "      <td>1993</td>\n",
       "      <td>0.0</td>\n",
       "      <td>0.70</td>\n",
       "      <td>7.3</td>\n",
       "      <td>1000.40</td>\n",
       "      <td>12.4</td>\n",
       "      <td>15.9</td>\n",
       "      <td>10.4</td>\n",
       "      <td>No Rain</td>\n",
       "      <td>Heavy Clouds</td>\n",
       "      <td>Warm</td>\n",
       "    </tr>\n",
       "  </tbody>\n",
       "</table>\n",
       "</div>"
      ],
      "text/plain": [
       "    YEAR  PRECIP_mm  SUNSHINE_hrs  CLOUD_hrs  ATMOS_PRESS_mbar  AVG_TEMP_C  \\\n",
       "22  1996        7.0          0.00        8.0           1010.40        11.7   \n",
       "3   1977       11.2          0.00        8.0           1013.10         9.7   \n",
       "29  2003        9.8          7.40        4.3           1005.90        12.0   \n",
       "44  2018        0.0          7.75        5.6           1013.82        14.9   \n",
       "19  1993        0.0          0.70        7.3           1000.40        12.4   \n",
       "\n",
       "    MAX_TEMP_C  MIN_TEMP_C PRECIP_CATEGORY CLOUD_CATEGORY TEMP_CATEGORY  \n",
       "22        14.1         6.7      Light Rain   Heavy Clouds          Warm  \n",
       "3         12.5         7.4   Moderate Rain   Heavy Clouds          Cold  \n",
       "29        18.7         4.4      Light Rain   Heavy Clouds          Warm  \n",
       "44        22.4         9.0         No Rain   Heavy Clouds          Warm  \n",
       "19        15.9        10.4         No Rain   Heavy Clouds          Warm  "
      ]
     },
     "execution_count": 85,
     "metadata": {},
     "output_type": "execute_result"
    }
   ],
   "source": [
    "weather.sample(5)"
   ]
  },
  {
   "cell_type": "code",
   "execution_count": 86,
   "id": "21208d96-47cc-42d2-93c3-0dc8e053b7f2",
   "metadata": {},
   "outputs": [],
   "source": [
    "# Now can move the catergorical columns into a seperate dataframe."
   ]
  },
  {
   "cell_type": "code",
   "execution_count": 87,
   "id": "81cf5117-640a-468f-a1df-652ee43ae632",
   "metadata": {},
   "outputs": [
    {
     "data": {
      "text/html": [
       "<div>\n",
       "<style scoped>\n",
       "    .dataframe tbody tr th:only-of-type {\n",
       "        vertical-align: middle;\n",
       "    }\n",
       "\n",
       "    .dataframe tbody tr th {\n",
       "        vertical-align: top;\n",
       "    }\n",
       "\n",
       "    .dataframe thead th {\n",
       "        text-align: right;\n",
       "    }\n",
       "</style>\n",
       "<table border=\"1\" class=\"dataframe\">\n",
       "  <thead>\n",
       "    <tr style=\"text-align: right;\">\n",
       "      <th></th>\n",
       "      <th>YEAR</th>\n",
       "      <th>PRECIP_CATEGORY</th>\n",
       "      <th>CLOUD_CATEGORY</th>\n",
       "      <th>TEMP_CATEGORY</th>\n",
       "    </tr>\n",
       "  </thead>\n",
       "  <tbody>\n",
       "    <tr>\n",
       "      <th>30</th>\n",
       "      <td>2004</td>\n",
       "      <td>Light Rain</td>\n",
       "      <td>Heavy Clouds</td>\n",
       "      <td>Warm</td>\n",
       "    </tr>\n",
       "    <tr>\n",
       "      <th>18</th>\n",
       "      <td>1992</td>\n",
       "      <td>No Rain</td>\n",
       "      <td>Light Clouds</td>\n",
       "      <td>Warm</td>\n",
       "    </tr>\n",
       "    <tr>\n",
       "      <th>45</th>\n",
       "      <td>2019</td>\n",
       "      <td>Light Rain</td>\n",
       "      <td>Heavy Clouds</td>\n",
       "      <td>Warm</td>\n",
       "    </tr>\n",
       "    <tr>\n",
       "      <th>35</th>\n",
       "      <td>2009</td>\n",
       "      <td>No Rain</td>\n",
       "      <td>Light Clouds</td>\n",
       "      <td>Hot</td>\n",
       "    </tr>\n",
       "    <tr>\n",
       "      <th>11</th>\n",
       "      <td>1985</td>\n",
       "      <td>No Rain</td>\n",
       "      <td>Heavy Clouds</td>\n",
       "      <td>Warm</td>\n",
       "    </tr>\n",
       "  </tbody>\n",
       "</table>\n",
       "</div>"
      ],
      "text/plain": [
       "    YEAR PRECIP_CATEGORY CLOUD_CATEGORY TEMP_CATEGORY\n",
       "30  2004      Light Rain   Heavy Clouds          Warm\n",
       "18  1992         No Rain   Light Clouds          Warm\n",
       "45  2019      Light Rain   Heavy Clouds          Warm\n",
       "35  2009         No Rain   Light Clouds           Hot\n",
       "11  1985         No Rain   Heavy Clouds          Warm"
      ]
     },
     "execution_count": 87,
     "metadata": {},
     "output_type": "execute_result"
    }
   ],
   "source": [
    "weather_categorical = weather.loc[:, ['YEAR', 'PRECIP_CATEGORY', 'CLOUD_CATEGORY', 'TEMP_CATEGORY']]\n",
    "\n",
    "weather_categorical.sample(5)"
   ]
  },
  {
   "cell_type": "markdown",
   "id": "fb2d5cce-4074-47b4-b7a1-3f40bf3783d1",
   "metadata": {},
   "source": [
    "### Step Four: Exploratory Data Analysis"
   ]
  },
  {
   "cell_type": "code",
   "execution_count": 89,
   "id": "988ccbf8-93aa-4663-a713-51c4e27e5c0f",
   "metadata": {},
   "outputs": [],
   "source": [
    "# Now that the data has had preliminary cleaning, I can begin the EDA.\n",
    "\n",
    "# Starting with the marathon dataset, I will first explore the categorical variables, GENDER and AGE.\n",
    "# (Note that AGE is treated as catergorical now that it has been transformed into 5 year increments.)"
   ]
  },
  {
   "cell_type": "code",
   "execution_count": 90,
   "id": "00db1124-d056-4c69-b0ea-6a05454d8b67",
   "metadata": {},
   "outputs": [],
   "source": [
    "frequency_GENDER = marathon['GENDER'].value_counts()"
   ]
  },
  {
   "cell_type": "code",
   "execution_count": 91,
   "id": "e086aa13-1792-438f-b1d2-5bc3e2c68813",
   "metadata": {},
   "outputs": [
    {
     "data": {
      "text/plain": [
       "GENDER\n",
       "male      724135\n",
       "female    158404\n",
       "Name: count, dtype: int64"
      ]
     },
     "execution_count": 91,
     "metadata": {},
     "output_type": "execute_result"
    }
   ],
   "source": [
    "frequency_GENDER"
   ]
  },
  {
   "cell_type": "code",
   "execution_count": 92,
   "id": "e6bd3165-b0c3-4b29-b1df-7fac66550fcb",
   "metadata": {},
   "outputs": [],
   "source": [
    "proportion_GENDER = marathon['GENDER'].value_counts(normalize=True)"
   ]
  },
  {
   "cell_type": "code",
   "execution_count": 93,
   "id": "fbf00b7c-1e75-4a12-aa6c-3f5013555db8",
   "metadata": {
    "scrolled": true
   },
   "outputs": [
    {
     "data": {
      "text/plain": [
       "GENDER\n",
       "male      0.820513\n",
       "female    0.179487\n",
       "Name: proportion, dtype: float64"
      ]
     },
     "execution_count": 93,
     "metadata": {},
     "output_type": "execute_result"
    }
   ],
   "source": [
    "proportion_GENDER"
   ]
  },
  {
   "cell_type": "code",
   "execution_count": 94,
   "id": "2c3f8a6c-b2ce-49bc-8301-0b791f977c26",
   "metadata": {},
   "outputs": [
    {
     "data": {
      "text/plain": [
       "<Axes: xlabel='GENDER'>"
      ]
     },
     "execution_count": 94,
     "metadata": {},
     "output_type": "execute_result"
    },
    {
     "data": {
      "image/png": "[encoded data removed]",
      "text/plain": [
       "<Figure size 640x480 with 1 Axes>"
      ]
     },
     "metadata": {},
     "output_type": "display_data"
    }
   ],
   "source": [
    "sns.barplot(x=frequency_GENDER.index, y=frequency_GENDER.values, hue=frequency_GENDER.index, palette=\"Set2\")"
   ]
  },
  {
   "cell_type": "code",
   "execution_count": 95,
   "id": "528ff746-9ac2-4c1d-8ee9-999ddbc67187",
   "metadata": {},
   "outputs": [
    {
     "data": {
      "text/plain": [
       "<Axes: ylabel='count'>"
      ]
     },
     "execution_count": 95,
     "metadata": {},
     "output_type": "execute_result"
    },
    {
     "data": {
      "image/png": "[encoded data removed]",
      "text/plain": [
       "<Figure size 640x480 with 1 Axes>"
      ]
     },
     "metadata": {},
     "output_type": "display_data"
    }
   ],
   "source": [
    "frequency_GENDER.plot.pie(autopct='%1.2f%%' ,startangle=90, colors=sns.color_palette('Set2'))"
   ]
  },
  {
   "cell_type": "code",
   "execution_count": 96,
   "id": "d9ab17ec-6277-46cb-b91d-fc8dacfe6e9e",
   "metadata": {},
   "outputs": [],
   "source": [
    "# The porportion of female representation seems much too low.\n",
    "# While modern marathons having a roughly 50:50 split, earlier marathons were largely male-dominated.\n",
    "# But can this explain over 4:1 ratio? Let's see.\n",
    "# Can look at the gender split each year."
   ]
  },
  {
   "cell_type": "code",
   "execution_count": 97,
   "id": "55e80342-e9f9-4402-949d-960a78f4ab44",
   "metadata": {},
   "outputs": [],
   "source": [
    "crosstab_YEAR_GENDER = pd.crosstab(index=marathon['YEAR'],\n",
    "            columns=marathon['GENDER'])"
   ]
  },
  {
   "cell_type": "code",
   "execution_count": 98,
   "id": "1dd57502-5a7b-4d67-abaa-763b99eab3df",
   "metadata": {},
   "outputs": [
    {
     "data": {
      "text/html": [
       "<div>\n",
       "<style scoped>\n",
       "    .dataframe tbody tr th:only-of-type {\n",
       "        vertical-align: middle;\n",
       "    }\n",
       "\n",
       "    .dataframe tbody tr th {\n",
       "        vertical-align: top;\n",
       "    }\n",
       "\n",
       "    .dataframe thead th {\n",
       "        text-align: right;\n",
       "    }\n",
       "</style>\n",
       "<table border=\"1\" class=\"dataframe\">\n",
       "  <thead>\n",
       "    <tr style=\"text-align: right;\">\n",
       "      <th>GENDER</th>\n",
       "      <th>female</th>\n",
       "      <th>male</th>\n",
       "    </tr>\n",
       "    <tr>\n",
       "      <th>YEAR</th>\n",
       "      <th></th>\n",
       "      <th></th>\n",
       "    </tr>\n",
       "  </thead>\n",
       "  <tbody>\n",
       "    <tr>\n",
       "      <th>1974</th>\n",
       "      <td>10</td>\n",
       "      <td>234</td>\n",
       "    </tr>\n",
       "    <tr>\n",
       "      <th>1975</th>\n",
       "      <td>4</td>\n",
       "      <td>229</td>\n",
       "    </tr>\n",
       "    <tr>\n",
       "      <th>1976</th>\n",
       "      <td>0</td>\n",
       "      <td>311</td>\n",
       "    </tr>\n",
       "    <tr>\n",
       "      <th>1977</th>\n",
       "      <td>11</td>\n",
       "      <td>217</td>\n",
       "    </tr>\n",
       "    <tr>\n",
       "      <th>1979</th>\n",
       "      <td>15</td>\n",
       "      <td>207</td>\n",
       "    </tr>\n",
       "    <tr>\n",
       "      <th>1981</th>\n",
       "      <td>150</td>\n",
       "      <td>2396</td>\n",
       "    </tr>\n",
       "    <tr>\n",
       "      <th>1982</th>\n",
       "      <td>129</td>\n",
       "      <td>3319</td>\n",
       "    </tr>\n",
       "    <tr>\n",
       "      <th>1983</th>\n",
       "      <td>223</td>\n",
       "      <td>4618</td>\n",
       "    </tr>\n",
       "    <tr>\n",
       "      <th>1984</th>\n",
       "      <td>421</td>\n",
       "      <td>6873</td>\n",
       "    </tr>\n",
       "    <tr>\n",
       "      <th>1985</th>\n",
       "      <td>636</td>\n",
       "      <td>9166</td>\n",
       "    </tr>\n",
       "    <tr>\n",
       "      <th>1986</th>\n",
       "      <td>875</td>\n",
       "      <td>10573</td>\n",
       "    </tr>\n",
       "    <tr>\n",
       "      <th>1987</th>\n",
       "      <td>1021</td>\n",
       "      <td>11650</td>\n",
       "    </tr>\n",
       "    <tr>\n",
       "      <th>1988</th>\n",
       "      <td>1111</td>\n",
       "      <td>11731</td>\n",
       "    </tr>\n",
       "    <tr>\n",
       "      <th>1989</th>\n",
       "      <td>1184</td>\n",
       "      <td>12153</td>\n",
       "    </tr>\n",
       "    <tr>\n",
       "      <th>1990</th>\n",
       "      <td>1825</td>\n",
       "      <td>18421</td>\n",
       "    </tr>\n",
       "    <tr>\n",
       "      <th>1991</th>\n",
       "      <td>1393</td>\n",
       "      <td>13364</td>\n",
       "    </tr>\n",
       "    <tr>\n",
       "      <th>1992</th>\n",
       "      <td>1239</td>\n",
       "      <td>10574</td>\n",
       "    </tr>\n",
       "    <tr>\n",
       "      <th>1993</th>\n",
       "      <td>1514</td>\n",
       "      <td>12587</td>\n",
       "    </tr>\n",
       "    <tr>\n",
       "      <th>1994</th>\n",
       "      <td>0</td>\n",
       "      <td>11926</td>\n",
       "    </tr>\n",
       "    <tr>\n",
       "      <th>1995</th>\n",
       "      <td>1368</td>\n",
       "      <td>11332</td>\n",
       "    </tr>\n",
       "    <tr>\n",
       "      <th>1996</th>\n",
       "      <td>2035</td>\n",
       "      <td>13897</td>\n",
       "    </tr>\n",
       "    <tr>\n",
       "      <th>1997</th>\n",
       "      <td>1836</td>\n",
       "      <td>13146</td>\n",
       "    </tr>\n",
       "    <tr>\n",
       "      <th>1998</th>\n",
       "      <td>3199</td>\n",
       "      <td>17804</td>\n",
       "    </tr>\n",
       "    <tr>\n",
       "      <th>1999</th>\n",
       "      <td>2578</td>\n",
       "      <td>16551</td>\n",
       "    </tr>\n",
       "    <tr>\n",
       "      <th>2000</th>\n",
       "      <td>3547</td>\n",
       "      <td>19332</td>\n",
       "    </tr>\n",
       "    <tr>\n",
       "      <th>2001</th>\n",
       "      <td>4134</td>\n",
       "      <td>21658</td>\n",
       "    </tr>\n",
       "    <tr>\n",
       "      <th>2002</th>\n",
       "      <td>4400</td>\n",
       "      <td>20886</td>\n",
       "    </tr>\n",
       "    <tr>\n",
       "      <th>2003</th>\n",
       "      <td>5604</td>\n",
       "      <td>25105</td>\n",
       "    </tr>\n",
       "    <tr>\n",
       "      <th>2004</th>\n",
       "      <td>5224</td>\n",
       "      <td>22798</td>\n",
       "    </tr>\n",
       "    <tr>\n",
       "      <th>2005</th>\n",
       "      <td>5868</td>\n",
       "      <td>24505</td>\n",
       "    </tr>\n",
       "    <tr>\n",
       "      <th>2006</th>\n",
       "      <td>6086</td>\n",
       "      <td>24096</td>\n",
       "    </tr>\n",
       "    <tr>\n",
       "      <th>2007</th>\n",
       "      <td>6486</td>\n",
       "      <td>26000</td>\n",
       "    </tr>\n",
       "    <tr>\n",
       "      <th>2008</th>\n",
       "      <td>7405</td>\n",
       "      <td>28327</td>\n",
       "    </tr>\n",
       "    <tr>\n",
       "      <th>2009</th>\n",
       "      <td>7066</td>\n",
       "      <td>27949</td>\n",
       "    </tr>\n",
       "    <tr>\n",
       "      <th>2010</th>\n",
       "      <td>7397</td>\n",
       "      <td>26604</td>\n",
       "    </tr>\n",
       "    <tr>\n",
       "      <th>2011</th>\n",
       "      <td>7382</td>\n",
       "      <td>25532</td>\n",
       "    </tr>\n",
       "    <tr>\n",
       "      <th>2012</th>\n",
       "      <td>7868</td>\n",
       "      <td>26402</td>\n",
       "    </tr>\n",
       "    <tr>\n",
       "      <th>2013</th>\n",
       "      <td>8918</td>\n",
       "      <td>27555</td>\n",
       "    </tr>\n",
       "    <tr>\n",
       "      <th>2014</th>\n",
       "      <td>6768</td>\n",
       "      <td>22177</td>\n",
       "    </tr>\n",
       "    <tr>\n",
       "      <th>2015</th>\n",
       "      <td>8910</td>\n",
       "      <td>27843</td>\n",
       "    </tr>\n",
       "    <tr>\n",
       "      <th>2016</th>\n",
       "      <td>9226</td>\n",
       "      <td>26765</td>\n",
       "    </tr>\n",
       "    <tr>\n",
       "      <th>2017</th>\n",
       "      <td>11069</td>\n",
       "      <td>28154</td>\n",
       "    </tr>\n",
       "    <tr>\n",
       "      <th>2018</th>\n",
       "      <td>12269</td>\n",
       "      <td>28372</td>\n",
       "    </tr>\n",
       "    <tr>\n",
       "      <th>2019</th>\n",
       "      <td>0</td>\n",
       "      <td>30796</td>\n",
       "    </tr>\n",
       "  </tbody>\n",
       "</table>\n",
       "</div>"
      ],
      "text/plain": [
       "GENDER  female   male\n",
       "YEAR                 \n",
       "1974        10    234\n",
       "1975         4    229\n",
       "1976         0    311\n",
       "1977        11    217\n",
       "1979        15    207\n",
       "1981       150   2396\n",
       "1982       129   3319\n",
       "1983       223   4618\n",
       "1984       421   6873\n",
       "1985       636   9166\n",
       "1986       875  10573\n",
       "1987      1021  11650\n",
       "1988      1111  11731\n",
       "1989      1184  12153\n",
       "1990      1825  18421\n",
       "1991      1393  13364\n",
       "1992      1239  10574\n",
       "1993      1514  12587\n",
       "1994         0  11926\n",
       "1995      1368  11332\n",
       "1996      2035  13897\n",
       "1997      1836  13146\n",
       "1998      3199  17804\n",
       "1999      2578  16551\n",
       "2000      3547  19332\n",
       "2001      4134  21658\n",
       "2002      4400  20886\n",
       "2003      5604  25105\n",
       "2004      5224  22798\n",
       "2005      5868  24505\n",
       "2006      6086  24096\n",
       "2007      6486  26000\n",
       "2008      7405  28327\n",
       "2009      7066  27949\n",
       "2010      7397  26604\n",
       "2011      7382  25532\n",
       "2012      7868  26402\n",
       "2013      8918  27555\n",
       "2014      6768  22177\n",
       "2015      8910  27843\n",
       "2016      9226  26765\n",
       "2017     11069  28154\n",
       "2018     12269  28372\n",
       "2019         0  30796"
      ]
     },
     "execution_count": 98,
     "metadata": {},
     "output_type": "execute_result"
    }
   ],
   "source": [
    "crosstab_YEAR_GENDER"
   ]
  },
  {
   "cell_type": "code",
   "execution_count": 99,
   "id": "4c629fb3-297b-4983-9a0e-476802774198",
   "metadata": {},
   "outputs": [],
   "source": [
    "# So here we can see that female participation numbers are missing for 1976, 1994 and 2019.\n",
    "# In 1976 Ursula Blaschke was the female champion, finishing in 3:04.\n",
    "# If there is a significant difference between male and female times, this absence could confuse my findings.\n",
    "# So will have to drop these years."
   ]
  },
  {
   "cell_type": "code",
   "execution_count": 100,
   "id": "9f09757d-45e2-456d-bfd5-a716cedec804",
   "metadata": {},
   "outputs": [],
   "source": [
    "marathon = marathon[(marathon['YEAR'] != 1976) & (marathon['YEAR'] != 1994) & (marathon['YEAR'] != 2019)]"
   ]
  },
  {
   "cell_type": "code",
   "execution_count": 101,
   "id": "60bebd3f-a59f-44f6-9e5d-11ec49fae122",
   "metadata": {},
   "outputs": [],
   "source": [
    "# Let's check how that's changed the ratio"
   ]
  },
  {
   "cell_type": "code",
   "execution_count": 102,
   "id": "d7d70beb-47ef-4230-ae4b-eecea671fdc7",
   "metadata": {},
   "outputs": [],
   "source": [
    "frequency_GENDER = marathon['GENDER'].value_counts()"
   ]
  },
  {
   "cell_type": "code",
   "execution_count": 103,
   "id": "1ce57f94-39dd-4eaa-8a98-581ef67ae2bf",
   "metadata": {},
   "outputs": [
    {
     "data": {
      "text/plain": [
       "<Axes: ylabel='count'>"
      ]
     },
     "execution_count": 103,
     "metadata": {},
     "output_type": "execute_result"
    },
    {
     "data": {
      "image/png": "[encoded data removed]",
      "text/plain": [
       "<Figure size 640x480 with 1 Axes>"
      ]
     },
     "metadata": {},
     "output_type": "display_data"
    }
   ],
   "source": [
    "frequency_GENDER.plot.pie(autopct='%1.2f%%' ,startangle=90, colors=sns.color_palette('Set2'))"
   ]
  },
  {
   "cell_type": "code",
   "execution_count": 104,
   "id": "2b0538ea-d5ff-47ce-9d0d-b906ae672843",
   "metadata": {},
   "outputs": [
    {
     "data": {
      "image/png": "[encoded data removed]",
      "text/plain": [
       "<Figure size 640x480 with 1 Axes>"
      ]
     },
     "metadata": {},
     "output_type": "display_data"
    }
   ],
   "source": [
    "frequency_GENDER.plot.pie(\n",
    "    autopct='%1.2f%%',\n",
    "    startangle=90,\n",
    "    colors=sns.color_palette('Set2')\n",
    ")\n",
    "\n",
    "plt.title(\"Gender distribution at Berlin Marathon (1974-2019)\")\n",
    "plt.show()"
   ]
  },
  {
   "cell_type": "code",
   "execution_count": 105,
   "id": "04e8c77e-a901-44e1-8e65-2bbd0a009a6f",
   "metadata": {},
   "outputs": [],
   "source": [
    "# Ever so slightly more balanced now."
   ]
  },
  {
   "cell_type": "code",
   "execution_count": 106,
   "id": "873b46a2-0350-4418-a1d4-d1a411d416c8",
   "metadata": {},
   "outputs": [],
   "source": [
    "crosstab_YEAR_GENDER = pd.crosstab(index=marathon['YEAR'],\n",
    "            columns=marathon['GENDER'])"
   ]
  },
  {
   "cell_type": "code",
   "execution_count": 107,
   "id": "dee03fd6-f41a-49cc-9d32-33fb8228f4c5",
   "metadata": {},
   "outputs": [
    {
     "data": {
      "image/png": "[encoded data removed]",
      "text/plain": [
       "<Figure size 1200x600 with 1 Axes>"
      ]
     },
     "metadata": {},
     "output_type": "display_data"
    }
   ],
   "source": [
    "plt.figure(figsize=(12, 6))\n",
    "\n",
    "plt.stackplot(crosstab_YEAR_GENDER.index, \n",
    "              crosstab_YEAR_GENDER['female'], \n",
    "              crosstab_YEAR_GENDER['male'], \n",
    "              labels=['Female', 'Male'], \n",
    "              colors=['blue', 'red'], \n",
    "              alpha=0.6)\n",
    "\n",
    "plt.xlabel('Year')\n",
    "plt.ylabel('Number of Runners')\n",
    "plt.title('Stacked Area Plot of Female and Male Runners Over Time')\n",
    "plt.legend(title='Gender', loc='upper left')\n",
    "plt.grid(True)\n",
    "\n",
    "plt.show()"
   ]
  },
  {
   "cell_type": "code",
   "execution_count": 108,
   "id": "23f537c6-a9a1-4b66-9b43-51b2a1fec72d",
   "metadata": {},
   "outputs": [],
   "source": [
    "# Now moving on to AGE, starting with a graph."
   ]
  },
  {
   "cell_type": "code",
   "execution_count": 109,
   "id": "95c9a4ce-3d5e-4f2a-bb12-98d3b66102a9",
   "metadata": {},
   "outputs": [
    {
     "data": {
      "image/png": "[encoded data removed]",
      "text/plain": [
       "<Figure size 640x480 with 1 Axes>"
      ]
     },
     "metadata": {},
     "output_type": "display_data"
    }
   ],
   "source": [
    "sns.barplot(x=marathon['AGE'].value_counts().index, y=marathon['AGE'].value_counts().values)\n",
    "plt.title(\"Number of Marathon Participants by Age Group\")\n",
    "plt.xlabel(\"Age Group\")\n",
    "plt.ylabel(\"Frequency\")\n",
    "plt.show()"
   ]
  },
  {
   "cell_type": "code",
   "execution_count": 110,
   "id": "12f5c50c-05df-4220-957c-a59451eb38c6",
   "metadata": {},
   "outputs": [],
   "source": [
    "# Very strange that there is no data in the 25-30 cohort."
   ]
  },
  {
   "cell_type": "code",
   "execution_count": 111,
   "id": "5253eb93-bb21-4254-bff5-cd89725807d7",
   "metadata": {},
   "outputs": [],
   "source": [
    "crosstab_YEAR_AGE = pd.crosstab(index=marathon['YEAR'],\n",
    "           columns=marathon['AGE'])"
   ]
  },
  {
   "cell_type": "code",
   "execution_count": 112,
   "id": "a5f60e06-de97-4f3c-a2dc-b161e7d311f5",
   "metadata": {},
   "outputs": [
    {
     "data": {
      "text/html": [
       "<div>\n",
       "<style scoped>\n",
       "    .dataframe tbody tr th:only-of-type {\n",
       "        vertical-align: middle;\n",
       "    }\n",
       "\n",
       "    .dataframe tbody tr th {\n",
       "        vertical-align: top;\n",
       "    }\n",
       "\n",
       "    .dataframe thead th {\n",
       "        text-align: right;\n",
       "    }\n",
       "</style>\n",
       "<table border=\"1\" class=\"dataframe\">\n",
       "  <thead>\n",
       "    <tr style=\"text-align: right;\">\n",
       "      <th>AGE</th>\n",
       "      <th>18.0</th>\n",
       "      <th>20.0</th>\n",
       "      <th>25.0</th>\n",
       "      <th>30.0</th>\n",
       "      <th>35.0</th>\n",
       "      <th>40.0</th>\n",
       "      <th>45.0</th>\n",
       "      <th>50.0</th>\n",
       "      <th>55.0</th>\n",
       "      <th>60.0</th>\n",
       "      <th>65.0</th>\n",
       "      <th>70.0</th>\n",
       "      <th>75.0</th>\n",
       "      <th>80.0</th>\n",
       "    </tr>\n",
       "    <tr>\n",
       "      <th>YEAR</th>\n",
       "      <th></th>\n",
       "      <th></th>\n",
       "      <th></th>\n",
       "      <th></th>\n",
       "      <th></th>\n",
       "      <th></th>\n",
       "      <th></th>\n",
       "      <th></th>\n",
       "      <th></th>\n",
       "      <th></th>\n",
       "      <th></th>\n",
       "      <th></th>\n",
       "      <th></th>\n",
       "      <th></th>\n",
       "    </tr>\n",
       "  </thead>\n",
       "  <tbody>\n",
       "    <tr>\n",
       "      <th>1974</th>\n",
       "      <td>0</td>\n",
       "      <td>0</td>\n",
       "      <td>50</td>\n",
       "      <td>0</td>\n",
       "      <td>79</td>\n",
       "      <td>0</td>\n",
       "      <td>50</td>\n",
       "      <td>0</td>\n",
       "      <td>17</td>\n",
       "      <td>0</td>\n",
       "      <td>8</td>\n",
       "      <td>0</td>\n",
       "      <td>0</td>\n",
       "      <td>0</td>\n",
       "    </tr>\n",
       "    <tr>\n",
       "      <th>1975</th>\n",
       "      <td>0</td>\n",
       "      <td>0</td>\n",
       "      <td>68</td>\n",
       "      <td>0</td>\n",
       "      <td>77</td>\n",
       "      <td>0</td>\n",
       "      <td>61</td>\n",
       "      <td>0</td>\n",
       "      <td>19</td>\n",
       "      <td>0</td>\n",
       "      <td>8</td>\n",
       "      <td>0</td>\n",
       "      <td>0</td>\n",
       "      <td>0</td>\n",
       "    </tr>\n",
       "    <tr>\n",
       "      <th>1977</th>\n",
       "      <td>0</td>\n",
       "      <td>126</td>\n",
       "      <td>69</td>\n",
       "      <td>0</td>\n",
       "      <td>16</td>\n",
       "      <td>0</td>\n",
       "      <td>6</td>\n",
       "      <td>0</td>\n",
       "      <td>0</td>\n",
       "      <td>0</td>\n",
       "      <td>0</td>\n",
       "      <td>0</td>\n",
       "      <td>0</td>\n",
       "      <td>0</td>\n",
       "    </tr>\n",
       "    <tr>\n",
       "      <th>1979</th>\n",
       "      <td>3</td>\n",
       "      <td>93</td>\n",
       "      <td>82</td>\n",
       "      <td>0</td>\n",
       "      <td>13</td>\n",
       "      <td>0</td>\n",
       "      <td>3</td>\n",
       "      <td>0</td>\n",
       "      <td>0</td>\n",
       "      <td>0</td>\n",
       "      <td>0</td>\n",
       "      <td>0</td>\n",
       "      <td>0</td>\n",
       "      <td>0</td>\n",
       "    </tr>\n",
       "    <tr>\n",
       "      <th>1981</th>\n",
       "      <td>100</td>\n",
       "      <td>537</td>\n",
       "      <td>0</td>\n",
       "      <td>357</td>\n",
       "      <td>413</td>\n",
       "      <td>567</td>\n",
       "      <td>308</td>\n",
       "      <td>149</td>\n",
       "      <td>69</td>\n",
       "      <td>44</td>\n",
       "      <td>0</td>\n",
       "      <td>0</td>\n",
       "      <td>0</td>\n",
       "      <td>0</td>\n",
       "    </tr>\n",
       "    <tr>\n",
       "      <th>1982</th>\n",
       "      <td>132</td>\n",
       "      <td>1077</td>\n",
       "      <td>0</td>\n",
       "      <td>469</td>\n",
       "      <td>554</td>\n",
       "      <td>644</td>\n",
       "      <td>350</td>\n",
       "      <td>112</td>\n",
       "      <td>60</td>\n",
       "      <td>25</td>\n",
       "      <td>14</td>\n",
       "      <td>8</td>\n",
       "      <td>0</td>\n",
       "      <td>0</td>\n",
       "    </tr>\n",
       "    <tr>\n",
       "      <th>1983</th>\n",
       "      <td>242</td>\n",
       "      <td>1424</td>\n",
       "      <td>0</td>\n",
       "      <td>679</td>\n",
       "      <td>708</td>\n",
       "      <td>939</td>\n",
       "      <td>548</td>\n",
       "      <td>174</td>\n",
       "      <td>81</td>\n",
       "      <td>25</td>\n",
       "      <td>13</td>\n",
       "      <td>7</td>\n",
       "      <td>0</td>\n",
       "      <td>0</td>\n",
       "    </tr>\n",
       "    <tr>\n",
       "      <th>1984</th>\n",
       "      <td>201</td>\n",
       "      <td>2012</td>\n",
       "      <td>0</td>\n",
       "      <td>1074</td>\n",
       "      <td>1195</td>\n",
       "      <td>1320</td>\n",
       "      <td>963</td>\n",
       "      <td>352</td>\n",
       "      <td>102</td>\n",
       "      <td>50</td>\n",
       "      <td>13</td>\n",
       "      <td>12</td>\n",
       "      <td>0</td>\n",
       "      <td>0</td>\n",
       "    </tr>\n",
       "    <tr>\n",
       "      <th>1985</th>\n",
       "      <td>187</td>\n",
       "      <td>2838</td>\n",
       "      <td>0</td>\n",
       "      <td>1408</td>\n",
       "      <td>1680</td>\n",
       "      <td>1555</td>\n",
       "      <td>1345</td>\n",
       "      <td>502</td>\n",
       "      <td>163</td>\n",
       "      <td>79</td>\n",
       "      <td>19</td>\n",
       "      <td>25</td>\n",
       "      <td>0</td>\n",
       "      <td>0</td>\n",
       "    </tr>\n",
       "    <tr>\n",
       "      <th>1986</th>\n",
       "      <td>206</td>\n",
       "      <td>3128</td>\n",
       "      <td>0</td>\n",
       "      <td>1651</td>\n",
       "      <td>1905</td>\n",
       "      <td>1699</td>\n",
       "      <td>1677</td>\n",
       "      <td>712</td>\n",
       "      <td>196</td>\n",
       "      <td>83</td>\n",
       "      <td>29</td>\n",
       "      <td>15</td>\n",
       "      <td>3</td>\n",
       "      <td>0</td>\n",
       "    </tr>\n",
       "    <tr>\n",
       "      <th>1987</th>\n",
       "      <td>193</td>\n",
       "      <td>3456</td>\n",
       "      <td>0</td>\n",
       "      <td>1953</td>\n",
       "      <td>2121</td>\n",
       "      <td>1826</td>\n",
       "      <td>1822</td>\n",
       "      <td>869</td>\n",
       "      <td>265</td>\n",
       "      <td>106</td>\n",
       "      <td>37</td>\n",
       "      <td>12</td>\n",
       "      <td>6</td>\n",
       "      <td>0</td>\n",
       "    </tr>\n",
       "    <tr>\n",
       "      <th>1988</th>\n",
       "      <td>321</td>\n",
       "      <td>3497</td>\n",
       "      <td>0</td>\n",
       "      <td>1954</td>\n",
       "      <td>2025</td>\n",
       "      <td>1895</td>\n",
       "      <td>1766</td>\n",
       "      <td>938</td>\n",
       "      <td>265</td>\n",
       "      <td>112</td>\n",
       "      <td>50</td>\n",
       "      <td>9</td>\n",
       "      <td>5</td>\n",
       "      <td>0</td>\n",
       "    </tr>\n",
       "    <tr>\n",
       "      <th>1989</th>\n",
       "      <td>242</td>\n",
       "      <td>3547</td>\n",
       "      <td>0</td>\n",
       "      <td>2017</td>\n",
       "      <td>2123</td>\n",
       "      <td>2021</td>\n",
       "      <td>1794</td>\n",
       "      <td>1059</td>\n",
       "      <td>364</td>\n",
       "      <td>120</td>\n",
       "      <td>35</td>\n",
       "      <td>8</td>\n",
       "      <td>3</td>\n",
       "      <td>0</td>\n",
       "    </tr>\n",
       "    <tr>\n",
       "      <th>1990</th>\n",
       "      <td>202</td>\n",
       "      <td>3725</td>\n",
       "      <td>0</td>\n",
       "      <td>2880</td>\n",
       "      <td>3388</td>\n",
       "      <td>3684</td>\n",
       "      <td>3217</td>\n",
       "      <td>2253</td>\n",
       "      <td>647</td>\n",
       "      <td>176</td>\n",
       "      <td>58</td>\n",
       "      <td>8</td>\n",
       "      <td>3</td>\n",
       "      <td>0</td>\n",
       "    </tr>\n",
       "    <tr>\n",
       "      <th>1991</th>\n",
       "      <td>176</td>\n",
       "      <td>3467</td>\n",
       "      <td>0</td>\n",
       "      <td>2324</td>\n",
       "      <td>2250</td>\n",
       "      <td>2403</td>\n",
       "      <td>1945</td>\n",
       "      <td>1446</td>\n",
       "      <td>514</td>\n",
       "      <td>140</td>\n",
       "      <td>59</td>\n",
       "      <td>19</td>\n",
       "      <td>7</td>\n",
       "      <td>0</td>\n",
       "    </tr>\n",
       "    <tr>\n",
       "      <th>1992</th>\n",
       "      <td>174</td>\n",
       "      <td>2930</td>\n",
       "      <td>0</td>\n",
       "      <td>1840</td>\n",
       "      <td>1748</td>\n",
       "      <td>1881</td>\n",
       "      <td>1477</td>\n",
       "      <td>1122</td>\n",
       "      <td>451</td>\n",
       "      <td>126</td>\n",
       "      <td>44</td>\n",
       "      <td>13</td>\n",
       "      <td>4</td>\n",
       "      <td>0</td>\n",
       "    </tr>\n",
       "    <tr>\n",
       "      <th>1993</th>\n",
       "      <td>142</td>\n",
       "      <td>3107</td>\n",
       "      <td>0</td>\n",
       "      <td>2258</td>\n",
       "      <td>2274</td>\n",
       "      <td>2267</td>\n",
       "      <td>1826</td>\n",
       "      <td>1333</td>\n",
       "      <td>662</td>\n",
       "      <td>149</td>\n",
       "      <td>52</td>\n",
       "      <td>15</td>\n",
       "      <td>8</td>\n",
       "      <td>0</td>\n",
       "    </tr>\n",
       "    <tr>\n",
       "      <th>1995</th>\n",
       "      <td>118</td>\n",
       "      <td>2604</td>\n",
       "      <td>0</td>\n",
       "      <td>2285</td>\n",
       "      <td>2111</td>\n",
       "      <td>2012</td>\n",
       "      <td>1558</td>\n",
       "      <td>1084</td>\n",
       "      <td>645</td>\n",
       "      <td>211</td>\n",
       "      <td>46</td>\n",
       "      <td>17</td>\n",
       "      <td>2</td>\n",
       "      <td>0</td>\n",
       "    </tr>\n",
       "    <tr>\n",
       "      <th>1996</th>\n",
       "      <td>150</td>\n",
       "      <td>2975</td>\n",
       "      <td>0</td>\n",
       "      <td>2857</td>\n",
       "      <td>2698</td>\n",
       "      <td>2618</td>\n",
       "      <td>2085</td>\n",
       "      <td>1334</td>\n",
       "      <td>831</td>\n",
       "      <td>282</td>\n",
       "      <td>80</td>\n",
       "      <td>15</td>\n",
       "      <td>6</td>\n",
       "      <td>0</td>\n",
       "    </tr>\n",
       "    <tr>\n",
       "      <th>1997</th>\n",
       "      <td>136</td>\n",
       "      <td>2781</td>\n",
       "      <td>0</td>\n",
       "      <td>2722</td>\n",
       "      <td>2603</td>\n",
       "      <td>2382</td>\n",
       "      <td>1935</td>\n",
       "      <td>1221</td>\n",
       "      <td>802</td>\n",
       "      <td>306</td>\n",
       "      <td>68</td>\n",
       "      <td>18</td>\n",
       "      <td>8</td>\n",
       "      <td>0</td>\n",
       "    </tr>\n",
       "    <tr>\n",
       "      <th>1998</th>\n",
       "      <td>153</td>\n",
       "      <td>3261</td>\n",
       "      <td>0</td>\n",
       "      <td>3372</td>\n",
       "      <td>3635</td>\n",
       "      <td>3496</td>\n",
       "      <td>3011</td>\n",
       "      <td>2001</td>\n",
       "      <td>1356</td>\n",
       "      <td>560</td>\n",
       "      <td>116</td>\n",
       "      <td>34</td>\n",
       "      <td>7</td>\n",
       "      <td>0</td>\n",
       "    </tr>\n",
       "    <tr>\n",
       "      <th>1999</th>\n",
       "      <td>139</td>\n",
       "      <td>3176</td>\n",
       "      <td>0</td>\n",
       "      <td>3491</td>\n",
       "      <td>3719</td>\n",
       "      <td>3084</td>\n",
       "      <td>2405</td>\n",
       "      <td>1595</td>\n",
       "      <td>916</td>\n",
       "      <td>471</td>\n",
       "      <td>103</td>\n",
       "      <td>23</td>\n",
       "      <td>5</td>\n",
       "      <td>2</td>\n",
       "    </tr>\n",
       "    <tr>\n",
       "      <th>2000</th>\n",
       "      <td>178</td>\n",
       "      <td>3378</td>\n",
       "      <td>0</td>\n",
       "      <td>3993</td>\n",
       "      <td>4545</td>\n",
       "      <td>3930</td>\n",
       "      <td>3028</td>\n",
       "      <td>2013</td>\n",
       "      <td>1014</td>\n",
       "      <td>611</td>\n",
       "      <td>153</td>\n",
       "      <td>28</td>\n",
       "      <td>7</td>\n",
       "      <td>1</td>\n",
       "    </tr>\n",
       "    <tr>\n",
       "      <th>2001</th>\n",
       "      <td>134</td>\n",
       "      <td>3514</td>\n",
       "      <td>0</td>\n",
       "      <td>4392</td>\n",
       "      <td>5317</td>\n",
       "      <td>4764</td>\n",
       "      <td>3399</td>\n",
       "      <td>2272</td>\n",
       "      <td>1106</td>\n",
       "      <td>676</td>\n",
       "      <td>176</td>\n",
       "      <td>30</td>\n",
       "      <td>11</td>\n",
       "      <td>1</td>\n",
       "    </tr>\n",
       "    <tr>\n",
       "      <th>2002</th>\n",
       "      <td>142</td>\n",
       "      <td>3313</td>\n",
       "      <td>0</td>\n",
       "      <td>3976</td>\n",
       "      <td>5230</td>\n",
       "      <td>4958</td>\n",
       "      <td>3374</td>\n",
       "      <td>2276</td>\n",
       "      <td>1087</td>\n",
       "      <td>656</td>\n",
       "      <td>233</td>\n",
       "      <td>34</td>\n",
       "      <td>4</td>\n",
       "      <td>3</td>\n",
       "    </tr>\n",
       "    <tr>\n",
       "      <th>2003</th>\n",
       "      <td>130</td>\n",
       "      <td>3837</td>\n",
       "      <td>0</td>\n",
       "      <td>4430</td>\n",
       "      <td>6434</td>\n",
       "      <td>6289</td>\n",
       "      <td>4238</td>\n",
       "      <td>2867</td>\n",
       "      <td>1345</td>\n",
       "      <td>798</td>\n",
       "      <td>289</td>\n",
       "      <td>38</td>\n",
       "      <td>11</td>\n",
       "      <td>2</td>\n",
       "    </tr>\n",
       "    <tr>\n",
       "      <th>2004</th>\n",
       "      <td>150</td>\n",
       "      <td>3336</td>\n",
       "      <td>0</td>\n",
       "      <td>3809</td>\n",
       "      <td>5617</td>\n",
       "      <td>5792</td>\n",
       "      <td>4286</td>\n",
       "      <td>2631</td>\n",
       "      <td>1297</td>\n",
       "      <td>752</td>\n",
       "      <td>292</td>\n",
       "      <td>50</td>\n",
       "      <td>8</td>\n",
       "      <td>2</td>\n",
       "    </tr>\n",
       "    <tr>\n",
       "      <th>2005</th>\n",
       "      <td>147</td>\n",
       "      <td>3438</td>\n",
       "      <td>0</td>\n",
       "      <td>3859</td>\n",
       "      <td>5718</td>\n",
       "      <td>6744</td>\n",
       "      <td>4845</td>\n",
       "      <td>3066</td>\n",
       "      <td>1407</td>\n",
       "      <td>735</td>\n",
       "      <td>351</td>\n",
       "      <td>51</td>\n",
       "      <td>10</td>\n",
       "      <td>2</td>\n",
       "    </tr>\n",
       "    <tr>\n",
       "      <th>2006</th>\n",
       "      <td>134</td>\n",
       "      <td>3229</td>\n",
       "      <td>0</td>\n",
       "      <td>3458</td>\n",
       "      <td>5390</td>\n",
       "      <td>6773</td>\n",
       "      <td>5207</td>\n",
       "      <td>3204</td>\n",
       "      <td>1584</td>\n",
       "      <td>709</td>\n",
       "      <td>390</td>\n",
       "      <td>83</td>\n",
       "      <td>21</td>\n",
       "      <td>0</td>\n",
       "    </tr>\n",
       "    <tr>\n",
       "      <th>2007</th>\n",
       "      <td>154</td>\n",
       "      <td>3695</td>\n",
       "      <td>0</td>\n",
       "      <td>3926</td>\n",
       "      <td>5517</td>\n",
       "      <td>7128</td>\n",
       "      <td>5576</td>\n",
       "      <td>3410</td>\n",
       "      <td>1782</td>\n",
       "      <td>806</td>\n",
       "      <td>387</td>\n",
       "      <td>90</td>\n",
       "      <td>12</td>\n",
       "      <td>3</td>\n",
       "    </tr>\n",
       "    <tr>\n",
       "      <th>2008</th>\n",
       "      <td>190</td>\n",
       "      <td>4004</td>\n",
       "      <td>0</td>\n",
       "      <td>4133</td>\n",
       "      <td>5658</td>\n",
       "      <td>7696</td>\n",
       "      <td>6463</td>\n",
       "      <td>4092</td>\n",
       "      <td>2041</td>\n",
       "      <td>900</td>\n",
       "      <td>422</td>\n",
       "      <td>117</td>\n",
       "      <td>12</td>\n",
       "      <td>4</td>\n",
       "    </tr>\n",
       "    <tr>\n",
       "      <th>2009</th>\n",
       "      <td>150</td>\n",
       "      <td>4057</td>\n",
       "      <td>0</td>\n",
       "      <td>4356</td>\n",
       "      <td>5481</td>\n",
       "      <td>7275</td>\n",
       "      <td>6289</td>\n",
       "      <td>4019</td>\n",
       "      <td>1945</td>\n",
       "      <td>886</td>\n",
       "      <td>398</td>\n",
       "      <td>139</td>\n",
       "      <td>12</td>\n",
       "      <td>8</td>\n",
       "    </tr>\n",
       "    <tr>\n",
       "      <th>2010</th>\n",
       "      <td>131</td>\n",
       "      <td>3634</td>\n",
       "      <td>0</td>\n",
       "      <td>4043</td>\n",
       "      <td>5207</td>\n",
       "      <td>6971</td>\n",
       "      <td>6357</td>\n",
       "      <td>4187</td>\n",
       "      <td>1998</td>\n",
       "      <td>924</td>\n",
       "      <td>361</td>\n",
       "      <td>167</td>\n",
       "      <td>18</td>\n",
       "      <td>3</td>\n",
       "    </tr>\n",
       "    <tr>\n",
       "      <th>2011</th>\n",
       "      <td>87</td>\n",
       "      <td>3457</td>\n",
       "      <td>0</td>\n",
       "      <td>3723</td>\n",
       "      <td>4832</td>\n",
       "      <td>6615</td>\n",
       "      <td>6312</td>\n",
       "      <td>4275</td>\n",
       "      <td>2011</td>\n",
       "      <td>1017</td>\n",
       "      <td>393</td>\n",
       "      <td>161</td>\n",
       "      <td>28</td>\n",
       "      <td>3</td>\n",
       "    </tr>\n",
       "    <tr>\n",
       "      <th>2012</th>\n",
       "      <td>112</td>\n",
       "      <td>3390</td>\n",
       "      <td>0</td>\n",
       "      <td>4181</td>\n",
       "      <td>5122</td>\n",
       "      <td>6632</td>\n",
       "      <td>6527</td>\n",
       "      <td>4563</td>\n",
       "      <td>2153</td>\n",
       "      <td>990</td>\n",
       "      <td>409</td>\n",
       "      <td>156</td>\n",
       "      <td>21</td>\n",
       "      <td>4</td>\n",
       "    </tr>\n",
       "    <tr>\n",
       "      <th>2013</th>\n",
       "      <td>95</td>\n",
       "      <td>3503</td>\n",
       "      <td>0</td>\n",
       "      <td>4416</td>\n",
       "      <td>5221</td>\n",
       "      <td>6945</td>\n",
       "      <td>6998</td>\n",
       "      <td>5041</td>\n",
       "      <td>2440</td>\n",
       "      <td>1139</td>\n",
       "      <td>450</td>\n",
       "      <td>170</td>\n",
       "      <td>38</td>\n",
       "      <td>8</td>\n",
       "    </tr>\n",
       "    <tr>\n",
       "      <th>2014</th>\n",
       "      <td>70</td>\n",
       "      <td>2725</td>\n",
       "      <td>0</td>\n",
       "      <td>3600</td>\n",
       "      <td>4199</td>\n",
       "      <td>5440</td>\n",
       "      <td>5425</td>\n",
       "      <td>3977</td>\n",
       "      <td>1987</td>\n",
       "      <td>942</td>\n",
       "      <td>371</td>\n",
       "      <td>159</td>\n",
       "      <td>43</td>\n",
       "      <td>5</td>\n",
       "    </tr>\n",
       "    <tr>\n",
       "      <th>2015</th>\n",
       "      <td>74</td>\n",
       "      <td>3756</td>\n",
       "      <td>0</td>\n",
       "      <td>4583</td>\n",
       "      <td>5364</td>\n",
       "      <td>6582</td>\n",
       "      <td>6736</td>\n",
       "      <td>5183</td>\n",
       "      <td>2601</td>\n",
       "      <td>1209</td>\n",
       "      <td>423</td>\n",
       "      <td>163</td>\n",
       "      <td>69</td>\n",
       "      <td>5</td>\n",
       "    </tr>\n",
       "    <tr>\n",
       "      <th>2016</th>\n",
       "      <td>77</td>\n",
       "      <td>3567</td>\n",
       "      <td>0</td>\n",
       "      <td>4610</td>\n",
       "      <td>5499</td>\n",
       "      <td>6057</td>\n",
       "      <td>6477</td>\n",
       "      <td>5209</td>\n",
       "      <td>2658</td>\n",
       "      <td>1169</td>\n",
       "      <td>436</td>\n",
       "      <td>162</td>\n",
       "      <td>55</td>\n",
       "      <td>12</td>\n",
       "    </tr>\n",
       "    <tr>\n",
       "      <th>2017</th>\n",
       "      <td>78</td>\n",
       "      <td>3871</td>\n",
       "      <td>0</td>\n",
       "      <td>5221</td>\n",
       "      <td>5970</td>\n",
       "      <td>6575</td>\n",
       "      <td>6819</td>\n",
       "      <td>5593</td>\n",
       "      <td>3013</td>\n",
       "      <td>1312</td>\n",
       "      <td>527</td>\n",
       "      <td>171</td>\n",
       "      <td>63</td>\n",
       "      <td>9</td>\n",
       "    </tr>\n",
       "    <tr>\n",
       "      <th>2018</th>\n",
       "      <td>76</td>\n",
       "      <td>4050</td>\n",
       "      <td>0</td>\n",
       "      <td>5454</td>\n",
       "      <td>6244</td>\n",
       "      <td>6849</td>\n",
       "      <td>6867</td>\n",
       "      <td>5687</td>\n",
       "      <td>3102</td>\n",
       "      <td>1533</td>\n",
       "      <td>543</td>\n",
       "      <td>162</td>\n",
       "      <td>57</td>\n",
       "      <td>16</td>\n",
       "    </tr>\n",
       "  </tbody>\n",
       "</table>\n",
       "</div>"
      ],
      "text/plain": [
       "AGE   18.0  20.0  25.0  30.0  35.0  40.0  45.0  50.0  55.0  60.0  65.0  70.0  \\\n",
       "YEAR                                                                           \n",
       "1974     0     0    50     0    79     0    50     0    17     0     8     0   \n",
       "1975     0     0    68     0    77     0    61     0    19     0     8     0   \n",
       "1977     0   126    69     0    16     0     6     0     0     0     0     0   \n",
       "1979     3    93    82     0    13     0     3     0     0     0     0     0   \n",
       "1981   100   537     0   357   413   567   308   149    69    44     0     0   \n",
       "1982   132  1077     0   469   554   644   350   112    60    25    14     8   \n",
       "1983   242  1424     0   679   708   939   548   174    81    25    13     7   \n",
       "1984   201  2012     0  1074  1195  1320   963   352   102    50    13    12   \n",
       "1985   187  2838     0  1408  1680  1555  1345   502   163    79    19    25   \n",
       "1986   206  3128     0  1651  1905  1699  1677   712   196    83    29    15   \n",
       "1987   193  3456     0  1953  2121  1826  1822   869   265   106    37    12   \n",
       "1988   321  3497     0  1954  2025  1895  1766   938   265   112    50     9   \n",
       "1989   242  3547     0  2017  2123  2021  1794  1059   364   120    35     8   \n",
       "1990   202  3725     0  2880  3388  3684  3217  2253   647   176    58     8   \n",
       "1991   176  3467     0  2324  2250  2403  1945  1446   514   140    59    19   \n",
       "1992   174  2930     0  1840  1748  1881  1477  1122   451   126    44    13   \n",
       "1993   142  3107     0  2258  2274  2267  1826  1333   662   149    52    15   \n",
       "1995   118  2604     0  2285  2111  2012  1558  1084   645   211    46    17   \n",
       "1996   150  2975     0  2857  2698  2618  2085  1334   831   282    80    15   \n",
       "1997   136  2781     0  2722  2603  2382  1935  1221   802   306    68    18   \n",
       "1998   153  3261     0  3372  3635  3496  3011  2001  1356   560   116    34   \n",
       "1999   139  3176     0  3491  3719  3084  2405  1595   916   471   103    23   \n",
       "2000   178  3378     0  3993  4545  3930  3028  2013  1014   611   153    28   \n",
       "2001   134  3514     0  4392  5317  4764  3399  2272  1106   676   176    30   \n",
       "2002   142  3313     0  3976  5230  4958  3374  2276  1087   656   233    34   \n",
       "2003   130  3837     0  4430  6434  6289  4238  2867  1345   798   289    38   \n",
       "2004   150  3336     0  3809  5617  5792  4286  2631  1297   752   292    50   \n",
       "2005   147  3438     0  3859  5718  6744  4845  3066  1407   735   351    51   \n",
       "2006   134  3229     0  3458  5390  6773  5207  3204  1584   709   390    83   \n",
       "2007   154  3695     0  3926  5517  7128  5576  3410  1782   806   387    90   \n",
       "2008   190  4004     0  4133  5658  7696  6463  4092  2041   900   422   117   \n",
       "2009   150  4057     0  4356  5481  7275  6289  4019  1945   886   398   139   \n",
       "2010   131  3634     0  4043  5207  6971  6357  4187  1998   924   361   167   \n",
       "2011    87  3457     0  3723  4832  6615  6312  4275  2011  1017   393   161   \n",
       "2012   112  3390     0  4181  5122  6632  6527  4563  2153   990   409   156   \n",
       "2013    95  3503     0  4416  5221  6945  6998  5041  2440  1139   450   170   \n",
       "2014    70  2725     0  3600  4199  5440  5425  3977  1987   942   371   159   \n",
       "2015    74  3756     0  4583  5364  6582  6736  5183  2601  1209   423   163   \n",
       "2016    77  3567     0  4610  5499  6057  6477  5209  2658  1169   436   162   \n",
       "2017    78  3871     0  5221  5970  6575  6819  5593  3013  1312   527   171   \n",
       "2018    76  4050     0  5454  6244  6849  6867  5687  3102  1533   543   162   \n",
       "\n",
       "AGE   75.0  80.0  \n",
       "YEAR              \n",
       "1974     0     0  \n",
       "1975     0     0  \n",
       "1977     0     0  \n",
       "1979     0     0  \n",
       "1981     0     0  \n",
       "1982     0     0  \n",
       "1983     0     0  \n",
       "1984     0     0  \n",
       "1985     0     0  \n",
       "1986     3     0  \n",
       "1987     6     0  \n",
       "1988     5     0  \n",
       "1989     3     0  \n",
       "1990     3     0  \n",
       "1991     7     0  \n",
       "1992     4     0  \n",
       "1993     8     0  \n",
       "1995     2     0  \n",
       "1996     6     0  \n",
       "1997     8     0  \n",
       "1998     7     0  \n",
       "1999     5     2  \n",
       "2000     7     1  \n",
       "2001    11     1  \n",
       "2002     4     3  \n",
       "2003    11     2  \n",
       "2004     8     2  \n",
       "2005    10     2  \n",
       "2006    21     0  \n",
       "2007    12     3  \n",
       "2008    12     4  \n",
       "2009    12     8  \n",
       "2010    18     3  \n",
       "2011    28     3  \n",
       "2012    21     4  \n",
       "2013    38     8  \n",
       "2014    43     5  \n",
       "2015    69     5  \n",
       "2016    55    12  \n",
       "2017    63     9  \n",
       "2018    57    16  "
      ]
     },
     "execution_count": 112,
     "metadata": {},
     "output_type": "execute_result"
    }
   ],
   "source": [
    "crosstab_YEAR_AGE"
   ]
  },
  {
   "cell_type": "code",
   "execution_count": 113,
   "id": "326f531f-2a70-4459-b2d1-98aa2987c97e",
   "metadata": {},
   "outputs": [],
   "source": [
    "# We are just missing the data here, not totally suprising given other flaws in the dataset that I've uncovered.\n",
    "# Because it is so consistent, i.e. data missing across all the years, it shouldn't distort the findings too much, just less accurate.\n",
    "# Decided that i will just lump these 3 bins (18.0,\t20.0, 25.0) together into a single > 30."
   ]
  },
  {
   "cell_type": "code",
   "execution_count": 114,
   "id": "cee11ce6-f471-422a-a658-fae9b9daf907",
   "metadata": {},
   "outputs": [],
   "source": [
    "New_AGE_map = {\n",
    "    18.0: '> 30.0',\n",
    "    20.0: '> 30.0',\n",
    "    25.0: '> 30.0'\n",
    "}\n",
    "\n",
    "marathon['AGE'] = marathon['AGE'].map(New_AGE_map).fillna(marathon['AGE'])"
   ]
  },
  {
   "cell_type": "code",
   "execution_count": 115,
   "id": "338bd6c2-41fe-4688-88d5-df9420b51b50",
   "metadata": {},
   "outputs": [],
   "source": [
    "crosstab_YEAR_AGE = pd.crosstab(index=marathon['YEAR'],\n",
    "           columns=marathon['AGE'])"
   ]
  },
  {
   "cell_type": "code",
   "execution_count": 116,
   "id": "11a67362-d569-48b6-bc4a-0acf7f67e1cc",
   "metadata": {},
   "outputs": [],
   "source": [
    "# Now I will move on to TIME, which is a numerical value.\n",
    "# First check which data type it is stored as."
   ]
  },
  {
   "cell_type": "code",
   "execution_count": 117,
   "id": "6e745ca9-c315-48e1-8588-629ddcf8ccff",
   "metadata": {},
   "outputs": [
    {
     "data": {
      "text/plain": [
       "206476    50.0\n",
       "Name: AGE, dtype: object"
      ]
     },
     "execution_count": 117,
     "metadata": {},
     "output_type": "execute_result"
    }
   ],
   "source": [
    "marathon['AGE'].sample()"
   ]
  },
  {
   "cell_type": "code",
   "execution_count": 118,
   "id": "cec041e2-91a4-497e-87ba-44a23e692283",
   "metadata": {},
   "outputs": [
    {
     "name": "stdout",
     "output_type": "stream",
     "text": [
      "YEAR       int64\n",
      "GENDER    object\n",
      "AGE       object\n",
      "TIME      object\n",
      "dtype: object\n"
     ]
    }
   ],
   "source": [
    "print(marathon.dtypes)"
   ]
  },
  {
   "cell_type": "code",
   "execution_count": 119,
   "id": "5241a2db-f35c-44ab-9735-8e2d868f85d7",
   "metadata": {},
   "outputs": [],
   "source": [
    "# Right now, time is an object, so I will convert it to a float so that it's easier to work with.\n",
    "# One way to do this is just convert the hours:minutes:seconds to seconds only.\n",
    "# Will create a new column to store this."
   ]
  },
  {
   "cell_type": "code",
   "execution_count": 120,
   "id": "dc6612b2-4be5-4aaf-bf60-d8a4b4e2fc7b",
   "metadata": {},
   "outputs": [],
   "source": [
    "def time_in_seconds(time_str):\n",
    "    h, m, s = map(int, time_str.split(':'))\n",
    "    return h * 3600 + m * 60 + s"
   ]
  },
  {
   "cell_type": "code",
   "execution_count": 121,
   "id": "37c30e5f-2f2b-42c1-a65a-ddc9458504ae",
   "metadata": {},
   "outputs": [],
   "source": [
    "marathon['TIME_(s)'] = marathon['TIME'].apply(time_in_seconds)"
   ]
  },
  {
   "cell_type": "code",
   "execution_count": 122,
   "id": "71cc3197-abf4-4efe-88e9-15a2329e22f9",
   "metadata": {},
   "outputs": [
    {
     "name": "stdout",
     "output_type": "stream",
     "text": [
      "        YEAR  GENDER     AGE      TIME  TIME_(s)\n",
      "0       1974    male    35.0  02:44:53      9893\n",
      "1       1974    male    45.0  02:46:43     10003\n",
      "2       1974    male    45.0  02:48:08     10088\n",
      "3       1974    male  > 30.0  02:48:40     10120\n",
      "4       1974    male    35.0  02:49:01     10141\n",
      "...      ...     ...     ...       ...       ...\n",
      "854143  2018    male    50.0  07:21:15     26475\n",
      "854144  2018    male    60.0  07:25:00     26700\n",
      "854145  2018    male    60.0  07:30:15     27015\n",
      "854146  2018  female    45.0  07:34:33     27273\n",
      "854147  2018  female    30.0  07:40:08     27608\n",
      "\n",
      "[839506 rows x 5 columns]\n"
     ]
    }
   ],
   "source": [
    "print(marathon)"
   ]
  },
  {
   "cell_type": "code",
   "execution_count": 123,
   "id": "d4a37309-c7ad-4b39-a9f1-bba470d00e4c",
   "metadata": {},
   "outputs": [
    {
     "data": {
      "text/plain": [
       "count    839506.000000\n",
       "mean      14516.261495\n",
       "std        2541.403585\n",
       "min        7299.000000\n",
       "25%       12720.000000\n",
       "50%       14258.000000\n",
       "75%       16081.000000\n",
       "max       35381.000000\n",
       "Name: TIME_(s), dtype: float64"
      ]
     },
     "execution_count": 123,
     "metadata": {},
     "output_type": "execute_result"
    }
   ],
   "source": [
    "marathon['TIME_(s)'].describe()"
   ]
  },
  {
   "cell_type": "code",
   "execution_count": 124,
   "id": "692a1ffa-b6f5-4c07-9b27-43039cd52ce0",
   "metadata": {},
   "outputs": [],
   "source": [
    "# Converted back to hh:mm:ss, this data reads:\n",
    "\n",
    "# mean    04:02:15\n",
    "# std     00:42:21\n",
    "# min     02:01:39\n",
    "# 25%     03:32:00\n",
    "# 50%     03:57:38\n",
    "# 75%     04:27:21\n",
    "# max     09:49:21"
   ]
  },
  {
   "cell_type": "code",
   "execution_count": 125,
   "id": "a8fb46aa-0ebf-44bf-9671-b2e6753d4e1c",
   "metadata": {},
   "outputs": [],
   "source": [
    "# Now, let's take a look at some descriptive statistics (skewness and kurtosis) for TIME."
   ]
  },
  {
   "cell_type": "code",
   "execution_count": 126,
   "id": "e5c2d2c2-f0a1-4811-8ecd-8f864e1b9d66",
   "metadata": {},
   "outputs": [
    {
     "data": {
      "text/plain": [
       "0.5"
      ]
     },
     "execution_count": 126,
     "metadata": {},
     "output_type": "execute_result"
    }
   ],
   "source": [
    "marathon['TIME_(s)'].skew().round(2)"
   ]
  },
  {
   "cell_type": "code",
   "execution_count": 127,
   "id": "338077ee-3810-43b2-a736-7a09e7a9aae4",
   "metadata": {},
   "outputs": [],
   "source": [
    "# TIME_(s) (0.5): The skewness is positive, indicating that the distribution of marathon times is right-skewed. \n",
    "# Most runners completed the marathon in a similar range of times, but a few runners took significantly longer to finish."
   ]
  },
  {
   "cell_type": "code",
   "execution_count": 128,
   "id": "72ae16a7-3dbe-465f-b966-b8d213752b0a",
   "metadata": {},
   "outputs": [
    {
     "data": {
      "text/plain": [
       "0.31"
      ]
     },
     "execution_count": 128,
     "metadata": {},
     "output_type": "execute_result"
    }
   ],
   "source": [
    "marathon['TIME_(s)'].kurtosis().round(2)"
   ]
  },
  {
   "cell_type": "code",
   "execution_count": 129,
   "id": "02d2ed6b-576b-4949-9b88-ff8096ffecb6",
   "metadata": {},
   "outputs": [],
   "source": [
    "# TIME_(s): Suggests a minority of runners with unusually long or short marathon times compared to the average."
   ]
  },
  {
   "cell_type": "code",
   "execution_count": 130,
   "id": "d28b04d4-d024-426c-9a8f-ccbf3880ff34",
   "metadata": {},
   "outputs": [],
   "source": [
    "# Can better visualise this distribution using a histogram."
   ]
  },
  {
   "cell_type": "code",
   "execution_count": 131,
   "id": "75e6e776-2f98-452a-8b89-ec5786b5b781",
   "metadata": {},
   "outputs": [
    {
     "data": {
      "image/png": "[encoded data removed]",
      "text/plain": [
       "<Figure size 1000x600 with 1 Axes>"
      ]
     },
     "metadata": {},
     "output_type": "display_data"
    }
   ],
   "source": [
    "plt.figure(figsize=(10, 6))\n",
    "plt.hist(marathon['TIME_(s)'], bins=50, color='skyblue', edgecolor='black')\n",
    "\n",
    "plt.title(\"Distribution of Marathon Completion Times\", fontsize=16)\n",
    "plt.xlabel(\"Time (in seconds)\", fontsize=14)\n",
    "plt.ylabel(\"Frequency\", fontsize=14)\n",
    "\n",
    "plt.tight_layout()\n",
    "plt.show()"
   ]
  },
  {
   "cell_type": "code",
   "execution_count": 132,
   "id": "721079e2-d9db-4f07-8417-8bf2ebb222d0",
   "metadata": {},
   "outputs": [],
   "source": [
    "# Because on the postive skew, I decided to look into these longer race times.\n",
    "# Using the 'Wayback Machine', I found that there were cut-off times of 6h 15m dating back to at least 2014 (but likely much longer).\n",
    "# Unfortunately, I was unable to find when cut-off times were first introduced to the Berlin Marathon.\n",
    "# Decided to check whether this is reflected in the data."
   ]
  },
  {
   "cell_type": "code",
   "execution_count": 133,
   "id": "a890c419-15dd-47ef-9992-b1ded91be2d0",
   "metadata": {},
   "outputs": [
    {
     "data": {
      "text/plain": [
       "27608"
      ]
     },
     "execution_count": 133,
     "metadata": {},
     "output_type": "execute_result"
    }
   ],
   "source": [
    "marathon[marathon['YEAR'] == 2018]['TIME_(s)'].max()"
   ]
  },
  {
   "cell_type": "code",
   "execution_count": 134,
   "id": "74ed757d-dffa-4737-97b9-09565aea1968",
   "metadata": {},
   "outputs": [],
   "source": [
    "# 27,608 seconds converts to 7h 40m, which should be an invalid time.\n",
    "# Let's see how many finish times over 6h 15m are in the dataser."
   ]
  },
  {
   "cell_type": "code",
   "execution_count": 135,
   "id": "fcf2ca68-f58b-4d37-ad99-60886d86f947",
   "metadata": {},
   "outputs": [
    {
     "data": {
      "text/plain": [
       "3087"
      ]
     },
     "execution_count": 135,
     "metadata": {},
     "output_type": "execute_result"
    }
   ],
   "source": [
    "(marathon['TIME_(s)'] > 22500).sum()"
   ]
  },
  {
   "cell_type": "code",
   "execution_count": 136,
   "id": "2e1cf026-dc0b-4f76-85a3-646d8d875b0b",
   "metadata": {},
   "outputs": [
    {
     "data": {
      "text/plain": [
       "YEAR\n",
       "1981      2\n",
       "1985      2\n",
       "1992      1\n",
       "1993      1\n",
       "1996      5\n",
       "1997      1\n",
       "1998      7\n",
       "1999      2\n",
       "2000     19\n",
       "2002     15\n",
       "2003     47\n",
       "2004     42\n",
       "2005     88\n",
       "2006    157\n",
       "2007     97\n",
       "2008    108\n",
       "2009    156\n",
       "2010    129\n",
       "2011    174\n",
       "2012    126\n",
       "2013    138\n",
       "2014    165\n",
       "2015    212\n",
       "2016    345\n",
       "2017    366\n",
       "2018    682\n",
       "Name: True, dtype: int64"
      ]
     },
     "execution_count": 136,
     "metadata": {},
     "output_type": "execute_result"
    }
   ],
   "source": [
    "cutoff_crosstab = pd.crosstab(marathon['YEAR'], marathon['TIME_(s)'] > 22500)\n",
    "\n",
    "cutoff = cutoff_crosstab[cutoff_crosstab[True] > 0][True]\n",
    "\n",
    "cutoff"
   ]
  },
  {
   "cell_type": "code",
   "execution_count": 137,
   "id": "8aa5ee5f-27c4-4381-87e8-80c45ef8f40c",
   "metadata": {},
   "outputs": [],
   "source": [
    "# I will consider these values as DNFs, so will drop all of them and treat the dataset as Berlin 'Finishers' only."
   ]
  },
  {
   "cell_type": "code",
   "execution_count": 138,
   "id": "6b2d00b5-ddb7-452d-bc11-8c44a6011934",
   "metadata": {},
   "outputs": [],
   "source": [
    "marathon['TIME_(s)'] = marathon['TIME_(s)'].apply(lambda x: x if x <= 22500 else None)"
   ]
  },
  {
   "cell_type": "code",
   "execution_count": 139,
   "id": "62ff9dc7-f9e7-4198-89d5-4742a85f2a1d",
   "metadata": {},
   "outputs": [
    {
     "data": {
      "text/plain": [
       "22500.0"
      ]
     },
     "execution_count": 139,
     "metadata": {},
     "output_type": "execute_result"
    }
   ],
   "source": [
    "marathon['TIME_(s)'].max()"
   ]
  },
  {
   "cell_type": "code",
   "execution_count": 140,
   "id": "7cf889ef-0188-43fa-a150-f787f7408289",
   "metadata": {},
   "outputs": [],
   "source": [
    "# How did that change the descriptive statistics?"
   ]
  },
  {
   "cell_type": "code",
   "execution_count": 141,
   "id": "f5bf7407-5f3f-4d0f-a503-2365aae998d9",
   "metadata": {},
   "outputs": [
    {
     "data": {
      "text/plain": [
       "0.4"
      ]
     },
     "execution_count": 141,
     "metadata": {},
     "output_type": "execute_result"
    }
   ],
   "source": [
    "marathon['TIME_(s)'].skew().round(2)"
   ]
  },
  {
   "cell_type": "code",
   "execution_count": 142,
   "id": "fbf35a2e-639d-458c-a2c7-e32cca8dc50d",
   "metadata": {},
   "outputs": [
    {
     "data": {
      "text/plain": [
       "-0.01"
      ]
     },
     "execution_count": 142,
     "metadata": {},
     "output_type": "execute_result"
    }
   ],
   "source": [
    "marathon['TIME_(s)'].kurtosis().round(2)"
   ]
  },
  {
   "cell_type": "code",
   "execution_count": 143,
   "id": "8f362297-795c-49de-8e4c-6e2e915c3333",
   "metadata": {},
   "outputs": [
    {
     "data": {
      "image/png": "[encoded data removed]",
      "text/plain": [
       "<Figure size 1000x600 with 1 Axes>"
      ]
     },
     "metadata": {},
     "output_type": "display_data"
    }
   ],
   "source": [
    "plt.figure(figsize=(10, 6))\n",
    "plt.hist(marathon['TIME_(s)'], bins=50, color='skyblue', edgecolor='black')\n",
    "\n",
    "plt.title(\"Distribution of Marathon Completion Times\", fontsize=16)\n",
    "plt.xlabel(\"Time (in seconds)\", fontsize=14)\n",
    "plt.ylabel(\"Frequency\", fontsize=14)\n",
    "\n",
    "plt.tight_layout()\n",
    "plt.show()"
   ]
  },
  {
   "cell_type": "code",
   "execution_count": 144,
   "id": "16d7dfa2-a1d8-4529-8e0d-1132bc17f245",
   "metadata": {},
   "outputs": [
    {
     "data": {
      "image/png": "[encoded data removed]",
      "text/plain": [
       "<Figure size 1000x600 with 1 Axes>"
      ]
     },
     "metadata": {},
     "output_type": "display_data"
    }
   ],
   "source": [
    "plt.figure(figsize=(10, 6))\n",
    "plt.hist(marathon['TIME_(s)'], bins=50, color='skyblue', edgecolor='black')\n",
    "\n",
    "plt.gca().set_xticks(plt.gca().get_xticks())\n",
    "plt.gca().set_xticklabels([f\"{x/3600:.1f}\" for x in plt.gca().get_xticks()])\n",
    "\n",
    "plt.title(\"Distribution of Marathon Finishing Times\", fontsize=16)\n",
    "plt.xlabel(\"Time (in hours)\", fontsize=14)\n",
    "plt.ylabel(\"Frequency\", fontsize=14)\n",
    "\n",
    "plt.tight_layout()\n",
    "plt.show()"
   ]
  },
  {
   "cell_type": "code",
   "execution_count": 145,
   "id": "e1f58039-0d7c-4310-ac5d-afe75e34ef29",
   "metadata": {},
   "outputs": [],
   "source": [
    "# Now I want to find the mean finish time for each year."
   ]
  },
  {
   "cell_type": "code",
   "execution_count": 146,
   "id": "48760249-4f3e-4ac4-b28d-24b5dbf8edca",
   "metadata": {},
   "outputs": [],
   "source": [
    "mean_finish_YEAR = marathon.groupby('YEAR')['TIME_(s)'].mean()"
   ]
  },
  {
   "cell_type": "code",
   "execution_count": 147,
   "id": "d7b40a77-af5c-4420-aa55-d0d92aa0f224",
   "metadata": {},
   "outputs": [
    {
     "data": {
      "image/png": "[encoded data removed]",
      "text/plain": [
       "<Figure size 1000x600 with 1 Axes>"
      ]
     },
     "metadata": {},
     "output_type": "display_data"
    }
   ],
   "source": [
    "plt.figure(figsize=(10, 6))\n",
    "plt.plot(mean_finish_YEAR.index, mean_finish_YEAR, marker='o', linestyle='-', color='b')\n",
    "\n",
    "plt.title('Mean Marathon Finish Time by Year')\n",
    "plt.xlabel('Year')\n",
    "plt.ylabel('Mean Finish Time (s)')\n",
    "plt.xticks(rotation=45)\n",
    "plt.show()"
   ]
  },
  {
   "cell_type": "code",
   "execution_count": 148,
   "id": "a0b9ddf2-951f-41bf-9590-eb7d4ceb904a",
   "metadata": {},
   "outputs": [],
   "source": [
    "# Compare male & female performance historically."
   ]
  },
  {
   "cell_type": "code",
   "execution_count": 149,
   "id": "597993d1-d594-4599-969f-82f6f81f5a85",
   "metadata": {},
   "outputs": [],
   "source": [
    "mean_times_GENDER = marathon.groupby(['YEAR', 'GENDER'])['TIME_(s)'].mean().unstack()"
   ]
  },
  {
   "cell_type": "code",
   "execution_count": 150,
   "id": "117f7f14-1ecc-4ebe-9e83-35d576fc1c37",
   "metadata": {},
   "outputs": [
    {
     "data": {
      "image/png": "[encoded data removed]",
      "text/plain": [
       "<Figure size 1000x600 with 1 Axes>"
      ]
     },
     "metadata": {},
     "output_type": "display_data"
    }
   ],
   "source": [
    "mean_times_GENDER.plot(kind='line', figsize=(10, 6), title=\"Mean TIME_(s) by Year and Gender\", \n",
    "                color=['blue', 'red'])\n",
    "plt.ylabel('Mean TIME_(s)')\n",
    "plt.xlabel('Year')\n",
    "plt.legend(title=\"Gender\")\n",
    "plt.show()"
   ]
  },
  {
   "cell_type": "code",
   "execution_count": 151,
   "id": "cb276c68-db85-4b7e-800d-b93c72e67355",
   "metadata": {},
   "outputs": [
    {
     "data": {
      "image/png": "[encoded data removed]",
      "text/plain": [
       "<Figure size 1000x600 with 1 Axes>"
      ]
     },
     "metadata": {},
     "output_type": "display_data"
    }
   ],
   "source": [
    "mean_times_GENDER.plot(kind='line', figsize=(10, 6), title=\"Mean TIME by Year and Gender\", \n",
    "                color=['blue', 'red'])\n",
    "\n",
    "# Update the y-axis ticks to hours\n",
    "plt.gca().set_yticks(plt.gca().get_yticks())  # Get the current y-ticks\n",
    "plt.gca().set_yticklabels([f\"{y/3600:.2f}\" for y in plt.gca().get_yticks()])\n",
    "\n",
    "# Update labels to reflect the change\n",
    "plt.ylabel('Mean TIME (hours)')\n",
    "plt.xlabel('Year')\n",
    "plt.legend(title=\"Gender\")\n",
    "plt.show()"
   ]
  },
  {
   "cell_type": "code",
   "execution_count": 152,
   "id": "c865068d-f1cb-44d6-9c88-0c0eb83c142f",
   "metadata": {},
   "outputs": [],
   "source": [
    "# We can see that male average times are faster, the gap is remarkably consistent across time."
   ]
  },
  {
   "cell_type": "code",
   "execution_count": 153,
   "id": "31fc526f-4bff-47dc-b2d7-f21443e14e17",
   "metadata": {},
   "outputs": [],
   "source": [
    "# My next step is to perform EDA on the weather data."
   ]
  },
  {
   "cell_type": "code",
   "execution_count": 154,
   "id": "20d1d0c3-0ba5-4e4f-8bc7-bc4921bd333b",
   "metadata": {},
   "outputs": [
    {
     "data": {
      "text/html": [
       "<div>\n",
       "<style scoped>\n",
       "    .dataframe tbody tr th:only-of-type {\n",
       "        vertical-align: middle;\n",
       "    }\n",
       "\n",
       "    .dataframe tbody tr th {\n",
       "        vertical-align: top;\n",
       "    }\n",
       "\n",
       "    .dataframe thead th {\n",
       "        text-align: right;\n",
       "    }\n",
       "</style>\n",
       "<table border=\"1\" class=\"dataframe\">\n",
       "  <thead>\n",
       "    <tr style=\"text-align: right;\">\n",
       "      <th></th>\n",
       "      <th>YEAR</th>\n",
       "      <th>PRECIP_CATEGORY</th>\n",
       "      <th>CLOUD_CATEGORY</th>\n",
       "      <th>TEMP_CATEGORY</th>\n",
       "    </tr>\n",
       "  </thead>\n",
       "  <tbody>\n",
       "    <tr>\n",
       "      <th>3</th>\n",
       "      <td>1977</td>\n",
       "      <td>Moderate Rain</td>\n",
       "      <td>Heavy Clouds</td>\n",
       "      <td>Cold</td>\n",
       "    </tr>\n",
       "    <tr>\n",
       "      <th>30</th>\n",
       "      <td>2004</td>\n",
       "      <td>Light Rain</td>\n",
       "      <td>Heavy Clouds</td>\n",
       "      <td>Warm</td>\n",
       "    </tr>\n",
       "    <tr>\n",
       "      <th>27</th>\n",
       "      <td>2001</td>\n",
       "      <td>Light Rain</td>\n",
       "      <td>Heavy Clouds</td>\n",
       "      <td>Warm</td>\n",
       "    </tr>\n",
       "    <tr>\n",
       "      <th>5</th>\n",
       "      <td>1979</td>\n",
       "      <td>No Rain</td>\n",
       "      <td>Light Clouds</td>\n",
       "      <td>Cold</td>\n",
       "    </tr>\n",
       "    <tr>\n",
       "      <th>14</th>\n",
       "      <td>1988</td>\n",
       "      <td>Light Rain</td>\n",
       "      <td>Heavy Clouds</td>\n",
       "      <td>Warm</td>\n",
       "    </tr>\n",
       "  </tbody>\n",
       "</table>\n",
       "</div>"
      ],
      "text/plain": [
       "    YEAR PRECIP_CATEGORY CLOUD_CATEGORY TEMP_CATEGORY\n",
       "3   1977   Moderate Rain   Heavy Clouds          Cold\n",
       "30  2004      Light Rain   Heavy Clouds          Warm\n",
       "27  2001      Light Rain   Heavy Clouds          Warm\n",
       "5   1979         No Rain   Light Clouds          Cold\n",
       "14  1988      Light Rain   Heavy Clouds          Warm"
      ]
     },
     "execution_count": 154,
     "metadata": {},
     "output_type": "execute_result"
    }
   ],
   "source": [
    "weather_categorical.sample(5)"
   ]
  },
  {
   "cell_type": "code",
   "execution_count": 155,
   "id": "0ae090ea-bc84-468b-bfe8-98070acf7c56",
   "metadata": {},
   "outputs": [
    {
     "data": {
      "text/plain": [
       "PRECIP_CATEGORY\n",
       "No Rain          27\n",
       "Light Rain       15\n",
       "Moderate Rain     1\n",
       "Heavy Rain        1\n",
       "Name: count, dtype: int64"
      ]
     },
     "execution_count": 155,
     "metadata": {},
     "output_type": "execute_result"
    }
   ],
   "source": [
    "weather_categorical['PRECIP_CATEGORY'].value_counts()"
   ]
  },
  {
   "cell_type": "code",
   "execution_count": 156,
   "id": "027113bf-e979-4798-9828-55d4f3f2f84c",
   "metadata": {},
   "outputs": [
    {
     "data": {
      "text/plain": [
       "CLOUD_CATEGORY\n",
       "Heavy Clouds       27\n",
       "Light Clouds       13\n",
       "Moderate Clouds     4\n",
       "Name: count, dtype: int64"
      ]
     },
     "execution_count": 156,
     "metadata": {},
     "output_type": "execute_result"
    }
   ],
   "source": [
    "weather_categorical['CLOUD_CATEGORY'].value_counts()"
   ]
  },
  {
   "cell_type": "code",
   "execution_count": 157,
   "id": "8c006ddc-d30b-4751-948a-24bf27d00072",
   "metadata": {},
   "outputs": [
    {
     "data": {
      "text/plain": [
       "TEMP_CATEGORY\n",
       "Warm    30\n",
       "Hot      8\n",
       "Cold     6\n",
       "Name: count, dtype: int64"
      ]
     },
     "execution_count": 157,
     "metadata": {},
     "output_type": "execute_result"
    }
   ],
   "source": [
    "weather_categorical['TEMP_CATEGORY'].value_counts()"
   ]
  },
  {
   "cell_type": "code",
   "execution_count": 158,
   "id": "56168ec8-1958-480c-8711-1d6ed6e659fc",
   "metadata": {},
   "outputs": [],
   "source": [
    "# Now to start comparing finish time with these weather conditions."
   ]
  },
  {
   "cell_type": "code",
   "execution_count": 159,
   "id": "79a6a7fa-8c06-47ed-beb9-1b362949e84a",
   "metadata": {},
   "outputs": [],
   "source": [
    "# First should merge the dataframes together."
   ]
  },
  {
   "cell_type": "code",
   "execution_count": 160,
   "id": "7af8285c-90a7-4de5-8304-24552e4e2361",
   "metadata": {},
   "outputs": [
    {
     "data": {
      "text/html": [
       "<div>\n",
       "<style scoped>\n",
       "    .dataframe tbody tr th:only-of-type {\n",
       "        vertical-align: middle;\n",
       "    }\n",
       "\n",
       "    .dataframe tbody tr th {\n",
       "        vertical-align: top;\n",
       "    }\n",
       "\n",
       "    .dataframe thead th {\n",
       "        text-align: right;\n",
       "    }\n",
       "</style>\n",
       "<table border=\"1\" class=\"dataframe\">\n",
       "  <thead>\n",
       "    <tr style=\"text-align: right;\">\n",
       "      <th></th>\n",
       "      <th>YEAR</th>\n",
       "      <th>GENDER</th>\n",
       "      <th>AGE</th>\n",
       "      <th>TIME</th>\n",
       "      <th>TIME_(s)</th>\n",
       "      <th>PRECIP_CATEGORY</th>\n",
       "      <th>CLOUD_CATEGORY</th>\n",
       "      <th>TEMP_CATEGORY</th>\n",
       "    </tr>\n",
       "  </thead>\n",
       "  <tbody>\n",
       "    <tr>\n",
       "      <th>0</th>\n",
       "      <td>1974</td>\n",
       "      <td>male</td>\n",
       "      <td>35.0</td>\n",
       "      <td>02:44:53</td>\n",
       "      <td>9893.0</td>\n",
       "      <td>No Rain</td>\n",
       "      <td>Heavy Clouds</td>\n",
       "      <td>Cold</td>\n",
       "    </tr>\n",
       "    <tr>\n",
       "      <th>1</th>\n",
       "      <td>1974</td>\n",
       "      <td>male</td>\n",
       "      <td>45.0</td>\n",
       "      <td>02:46:43</td>\n",
       "      <td>10003.0</td>\n",
       "      <td>No Rain</td>\n",
       "      <td>Heavy Clouds</td>\n",
       "      <td>Cold</td>\n",
       "    </tr>\n",
       "    <tr>\n",
       "      <th>2</th>\n",
       "      <td>1974</td>\n",
       "      <td>male</td>\n",
       "      <td>45.0</td>\n",
       "      <td>02:48:08</td>\n",
       "      <td>10088.0</td>\n",
       "      <td>No Rain</td>\n",
       "      <td>Heavy Clouds</td>\n",
       "      <td>Cold</td>\n",
       "    </tr>\n",
       "    <tr>\n",
       "      <th>3</th>\n",
       "      <td>1974</td>\n",
       "      <td>male</td>\n",
       "      <td>&gt; 30.0</td>\n",
       "      <td>02:48:40</td>\n",
       "      <td>10120.0</td>\n",
       "      <td>No Rain</td>\n",
       "      <td>Heavy Clouds</td>\n",
       "      <td>Cold</td>\n",
       "    </tr>\n",
       "    <tr>\n",
       "      <th>4</th>\n",
       "      <td>1974</td>\n",
       "      <td>male</td>\n",
       "      <td>35.0</td>\n",
       "      <td>02:49:01</td>\n",
       "      <td>10141.0</td>\n",
       "      <td>No Rain</td>\n",
       "      <td>Heavy Clouds</td>\n",
       "      <td>Cold</td>\n",
       "    </tr>\n",
       "  </tbody>\n",
       "</table>\n",
       "</div>"
      ],
      "text/plain": [
       "   YEAR GENDER     AGE      TIME  TIME_(s) PRECIP_CATEGORY CLOUD_CATEGORY  \\\n",
       "0  1974   male    35.0  02:44:53    9893.0         No Rain   Heavy Clouds   \n",
       "1  1974   male    45.0  02:46:43   10003.0         No Rain   Heavy Clouds   \n",
       "2  1974   male    45.0  02:48:08   10088.0         No Rain   Heavy Clouds   \n",
       "3  1974   male  > 30.0  02:48:40   10120.0         No Rain   Heavy Clouds   \n",
       "4  1974   male    35.0  02:49:01   10141.0         No Rain   Heavy Clouds   \n",
       "\n",
       "  TEMP_CATEGORY  \n",
       "0          Cold  \n",
       "1          Cold  \n",
       "2          Cold  \n",
       "3          Cold  \n",
       "4          Cold  "
      ]
     },
     "execution_count": 160,
     "metadata": {},
     "output_type": "execute_result"
    }
   ],
   "source": [
    "df = pd.merge(marathon, weather_categorical, on='YEAR', how='inner')\n",
    "df.head()"
   ]
  },
  {
   "cell_type": "code",
   "execution_count": 161,
   "id": "abfa5c3d-0358-498b-8619-01d9e055bb1c",
   "metadata": {},
   "outputs": [
    {
     "data": {
      "text/plain": [
       "PRECIP_CATEGORY\n",
       "Heavy Rain       14714.791893\n",
       "Light Rain       14102.243420\n",
       "Moderate Rain    12382.859649\n",
       "No Rain          14613.439604\n",
       "Name: TIME_(s), dtype: float64"
      ]
     },
     "execution_count": 161,
     "metadata": {},
     "output_type": "execute_result"
    }
   ],
   "source": [
    "df.groupby('PRECIP_CATEGORY')['TIME_(s)'].mean()"
   ]
  },
  {
   "cell_type": "code",
   "execution_count": 162,
   "id": "98fdb48b-e586-49c6-957e-2522277e9877",
   "metadata": {},
   "outputs": [],
   "source": [
    "# Heavy Rain: 04:05:14\n",
    "# Moderate Rain: 03:26:22\n",
    "# Light Rain: 03:55:02\n",
    "# No Rain: 04:03:33"
   ]
  },
  {
   "cell_type": "code",
   "execution_count": 163,
   "id": "d9adaef1-f3a6-42ac-bc91-c6c028ad8e47",
   "metadata": {},
   "outputs": [
    {
     "data": {
      "text/plain": [
       "PRECIP_CATEGORY\n",
       "No Rain          586524\n",
       "Light Rain       218753\n",
       "Heavy Rain        34001\n",
       "Moderate Rain       228\n",
       "Name: count, dtype: int64"
      ]
     },
     "execution_count": 163,
     "metadata": {},
     "output_type": "execute_result"
    }
   ],
   "source": [
    "df['PRECIP_CATEGORY'].value_counts()"
   ]
  },
  {
   "cell_type": "code",
   "execution_count": 164,
   "id": "6093820c-242c-4af9-96a7-696522980f4f",
   "metadata": {},
   "outputs": [],
   "source": [
    "# Not enough data for Moderate Rain."
   ]
  },
  {
   "cell_type": "code",
   "execution_count": 165,
   "id": "e5bc0660-ad96-407f-9b71-33c37162a3c6",
   "metadata": {},
   "outputs": [],
   "source": [
    "# to do - merge light + moderate"
   ]
  },
  {
   "cell_type": "code",
   "execution_count": 166,
   "id": "2a40b85b-9605-494a-b1da-82d29ef8ba9f",
   "metadata": {},
   "outputs": [
    {
     "data": {
      "text/plain": [
       "CLOUD_CATEGORY\n",
       "Heavy Clouds       14349.976694\n",
       "Light Clouds       14689.037484\n",
       "Moderate Clouds    14603.112757\n",
       "Name: TIME_(s), dtype: float64"
      ]
     },
     "execution_count": 166,
     "metadata": {},
     "output_type": "execute_result"
    }
   ],
   "source": [
    "df.groupby('CLOUD_CATEGORY')['TIME_(s)'].mean()"
   ]
  },
  {
   "cell_type": "code",
   "execution_count": 167,
   "id": "aefb6608-969b-4cee-b070-6d12a61c7f31",
   "metadata": {},
   "outputs": [],
   "source": [
    "# Heavy Clouds: 03:59:09\n",
    "# Moderate Clouds: 04:03:23\n",
    "# Light Clouds: 04:04:49"
   ]
  },
  {
   "cell_type": "code",
   "execution_count": 168,
   "id": "3cae863f-e7b2-4071-b9bc-77e427815706",
   "metadata": {},
   "outputs": [
    {
     "data": {
      "text/plain": [
       "TEMP_CATEGORY\n",
       "Cold    14116.406750\n",
       "Hot     14685.696329\n",
       "Warm    14468.255622\n",
       "Name: TIME_(s), dtype: float64"
      ]
     },
     "execution_count": 168,
     "metadata": {},
     "output_type": "execute_result"
    }
   ],
   "source": [
    "df.groupby('TEMP_CATEGORY')['TIME_(s)'].mean()"
   ]
  },
  {
   "cell_type": "code",
   "execution_count": 169,
   "id": "eae0720e-5d3b-4954-9b48-bf672a2a2438",
   "metadata": {},
   "outputs": [],
   "source": [
    "# Hot: 4:04:45\n",
    "# Warm: 04:01:68\n",
    "# Cold: 03:55:16"
   ]
  },
  {
   "cell_type": "code",
   "execution_count": 170,
   "id": "3233e601-c64e-4d71-90fd-81b6a41df254",
   "metadata": {},
   "outputs": [],
   "source": [
    "# Seems to be the clearest correlation with temperature, so will focus on this."
   ]
  },
  {
   "cell_type": "code",
   "execution_count": 171,
   "id": "9ec16aac-726e-42c1-b1bc-9c1a1d1da88f",
   "metadata": {},
   "outputs": [],
   "source": [
    "# Going to use the ANOVA test here."
   ]
  },
  {
   "cell_type": "code",
   "execution_count": 172,
   "id": "f017feca-fc00-4c94-b25c-9ab15953eb74",
   "metadata": {},
   "outputs": [],
   "source": [
    "COLD = df[df['TEMP_CATEGORY'] == 'Cold']['TIME_(s)']"
   ]
  },
  {
   "cell_type": "code",
   "execution_count": 173,
   "id": "0de2695a-532b-4114-a4ff-0a14d01c04a1",
   "metadata": {},
   "outputs": [],
   "source": [
    "WARM = df[df['TEMP_CATEGORY'] == 'Warm']['TIME_(s)']"
   ]
  },
  {
   "cell_type": "code",
   "execution_count": 174,
   "id": "c1036a86-d2e1-4da7-b0ee-da1e34f11160",
   "metadata": {},
   "outputs": [],
   "source": [
    "HOT = df[df['TEMP_CATEGORY'] == 'Hot']['TIME_(s)']"
   ]
  },
  {
   "cell_type": "code",
   "execution_count": 175,
   "id": "eadadcac-6e72-4a56-9d20-c0ac9fdeeb94",
   "metadata": {},
   "outputs": [],
   "source": [
    "# First need to check for any NaNs."
   ]
  },
  {
   "cell_type": "code",
   "execution_count": 176,
   "id": "c4f4c3c2-e0ba-4d3a-ae70-92cda1fbd44b",
   "metadata": {},
   "outputs": [
    {
     "data": {
      "text/plain": [
       "139"
      ]
     },
     "execution_count": 176,
     "metadata": {},
     "output_type": "execute_result"
    }
   ],
   "source": [
    "COLD.isna().sum()"
   ]
  },
  {
   "cell_type": "code",
   "execution_count": 177,
   "id": "5dd026da-8da4-45ab-8f24-92cff6a87b61",
   "metadata": {},
   "outputs": [
    {
     "data": {
      "text/plain": [
       "2524"
      ]
     },
     "execution_count": 177,
     "metadata": {},
     "output_type": "execute_result"
    }
   ],
   "source": [
    "WARM.isna().sum()"
   ]
  },
  {
   "cell_type": "code",
   "execution_count": 178,
   "id": "b08eb9f2-351b-42f1-b8e4-d102038686da",
   "metadata": {},
   "outputs": [
    {
     "data": {
      "text/plain": [
       "424"
      ]
     },
     "execution_count": 178,
     "metadata": {},
     "output_type": "execute_result"
    }
   ],
   "source": [
    "HOT.isna().sum()"
   ]
  },
  {
   "cell_type": "code",
   "execution_count": 179,
   "id": "d14d1c02-0d14-4916-9cb0-b61e6a406b61",
   "metadata": {},
   "outputs": [],
   "source": [
    "# Decided to drop these."
   ]
  },
  {
   "cell_type": "code",
   "execution_count": 180,
   "id": "14e20104-04c1-4546-be7f-3559c37adb08",
   "metadata": {},
   "outputs": [],
   "source": [
    "COLD = COLD.dropna()\n",
    "WARM = WARM.dropna()\n",
    "HOT = HOT.dropna()    "
   ]
  },
  {
   "cell_type": "code",
   "execution_count": 181,
   "id": "0f928df8-3e97-407f-99b1-f4b2c9a1745b",
   "metadata": {},
   "outputs": [],
   "source": [
    "# Now to define my hypotheses:\n",
    "# H₀: There is no significant difference in marathon race times between the temperature categories\n",
    "# H₁: There is a significant difference in marathon race times between the temperature categories."
   ]
  },
  {
   "cell_type": "code",
   "execution_count": 182,
   "id": "6f26ae48-c9a1-4753-b45f-5698a03b5098",
   "metadata": {},
   "outputs": [
    {
     "name": "stdout",
     "output_type": "stream",
     "text": [
      "F-Statistic: 1259.23\n",
      "P-Value: 0.0000\n",
      "\n",
      "Reject the Null Hypothesis.\n"
     ]
    }
   ],
   "source": [
    "f_stat, p_value = st.f_oneway(COLD, WARM, HOT)\n",
    "print(f\"F-Statistic: {f_stat:.2f}\")\n",
    "print(f\"P-Value: {p_value:.4f}\")\n",
    "print()\n",
    "\n",
    "alpha = 0.05\n",
    "\n",
    "if p_value > alpha:\n",
    "    print(\"Fail to Reject the Null Hypothesis.\")\n",
    "else:\n",
    "    print(\"Reject the Null Hypothesis.\")"
   ]
  },
  {
   "cell_type": "code",
   "execution_count": 183,
   "id": "327a295a-4486-4463-b54d-03e2a9e0c1c3",
   "metadata": {},
   "outputs": [],
   "source": [
    "# F-statistic suggests a large difference between the group means relative to the variability within each group.\n",
    "# Extremely low p-value indicates strong evidence against the null hypothesis"
   ]
  },
  {
   "cell_type": "code",
   "execution_count": 184,
   "id": "6d797d02-8e71-4346-85d1-8f8c92098b6c",
   "metadata": {},
   "outputs": [],
   "source": [
    "# Now, looking at my 'Mean Marathon Finish Time by Year' graph, I can see that times get slower over the years.\n",
    "# This reflects marathon running becoming a mass participation sport.\n",
    "# Elite finish times dropped markedly during this same period.\n",
    "# I want to create a regression model and run the ANOVA test again, to see if the findings are replicated.\n",
    "# Can see growing participation here:"
   ]
  },
  {
   "cell_type": "code",
   "execution_count": 185,
   "id": "35943d6e-d921-4773-b024-deda2efd1f0f",
   "metadata": {},
   "outputs": [
    {
     "data": {
      "image/png": "[encoded data removed]",
      "text/plain": [
       "<Figure size 1000x600 with 1 Axes>"
      ]
     },
     "metadata": {},
     "output_type": "display_data"
    }
   ],
   "source": [
    "growing_participation = marathon.groupby('YEAR').size()\n",
    "\n",
    "plt.figure(figsize=(10, 6))\n",
    "plt.plot(growing_participation.index, growing_participation.values, marker='o', color='green', linestyle='-', label='Participation')\n",
    "plt.title('Growing Participation in Marathon by Year', fontsize=16)\n",
    "plt.xlabel('Year', fontsize=14)\n",
    "plt.ylabel('Number of Participants', fontsize=14)\n",
    "plt.grid(True, linestyle='--', alpha=0.6)\n",
    "plt.legend(fontsize=12)\n",
    "plt.tight_layout()\n",
    "plt.show()"
   ]
  },
  {
   "cell_type": "code",
   "execution_count": 186,
   "id": "86f29e3f-f4b0-418d-a703-78e83757ca5f",
   "metadata": {},
   "outputs": [],
   "source": [
    "# Now a correlation coefficient test to find the relationship between participation numbers and average finishing time."
   ]
  },
  {
   "cell_type": "code",
   "execution_count": 187,
   "id": "89cfafaf-3f52-45b6-ba75-d5d5d490f8a5",
   "metadata": {},
   "outputs": [
    {
     "data": {
      "text/plain": [
       "0.7321515108184019"
      ]
     },
     "execution_count": 187,
     "metadata": {},
     "output_type": "execute_result"
    }
   ],
   "source": [
    "correlation = growing_participation.corr(mean_finish_YEAR)\n",
    "correlation"
   ]
  },
  {
   "cell_type": "code",
   "execution_count": 188,
   "id": "cc716a40-3400-4cd4-9b57-6e0119a3c677",
   "metadata": {},
   "outputs": [],
   "source": [
    "# A correlation of 0.73 indicates a strong positive relationship"
   ]
  },
  {
   "cell_type": "code",
   "execution_count": 189,
   "id": "377ea1a1-cee6-4cca-9521-5d4d6ea45766",
   "metadata": {},
   "outputs": [
    {
     "data": {
      "text/plain": [
       "YEAR\n",
       "1974    15052.725410\n",
       "1975    14735.639485\n",
       "1977    12382.859649\n",
       "1979    12584.328829\n",
       "1981    13578.672956\n",
       "1982    13874.243329\n",
       "1983    13181.544102\n",
       "1984    12754.513847\n",
       "1985    12741.101939\n",
       "1986    12873.595388\n",
       "1987    12915.768290\n",
       "1988    12786.573742\n",
       "1989    12914.692959\n",
       "1990    13025.278080\n",
       "1991    13336.133360\n",
       "1992    13763.475872\n",
       "1993    13382.134681\n",
       "1995    13710.812047\n",
       "1996    13262.005714\n",
       "1997    13783.109405\n",
       "1998    14254.710850\n",
       "1999    14178.089821\n",
       "2000    14843.554899\n",
       "2001    14441.143223\n",
       "2002    14453.653674\n",
       "2003    14716.651295\n",
       "2004    14587.795282\n",
       "2005    15026.691167\n",
       "2006    15330.884663\n",
       "2007    14791.780975\n",
       "2008    14795.425107\n",
       "2009    15134.146361\n",
       "2010    14714.791893\n",
       "2011    14953.688668\n",
       "2012    14759.034237\n",
       "2013    14686.472134\n",
       "2014    14821.922238\n",
       "2015    14781.933773\n",
       "2016    15079.022387\n",
       "2017    15057.166070\n",
       "2018    15402.501864\n",
       "Name: TIME_(s), dtype: float64"
      ]
     },
     "execution_count": 189,
     "metadata": {},
     "output_type": "execute_result"
    }
   ],
   "source": [
    "mean_finish_YEAR"
   ]
  },
  {
   "cell_type": "code",
   "execution_count": 190,
   "id": "9ea12c40-0a52-47c0-bb33-358b956ba823",
   "metadata": {},
   "outputs": [],
   "source": [
    "# I will take from 1984 onwards, to avoid some of the inital outliers.\n",
    "# Note that the course didn't run through the city proper until 1981.\n",
    "# Before that was run out in the forest/countryside in Grunewald."
   ]
  },
  {
   "cell_type": "code",
   "execution_count": 191,
   "id": "0ab1db4b-ec8f-47e7-b6fe-7b5e11e767c0",
   "metadata": {},
   "outputs": [
    {
     "data": {
      "text/html": [
       "<div>\n",
       "<style scoped>\n",
       "    .dataframe tbody tr th:only-of-type {\n",
       "        vertical-align: middle;\n",
       "    }\n",
       "\n",
       "    .dataframe tbody tr th {\n",
       "        vertical-align: top;\n",
       "    }\n",
       "\n",
       "    .dataframe thead th {\n",
       "        text-align: right;\n",
       "    }\n",
       "</style>\n",
       "<table border=\"1\" class=\"dataframe\">\n",
       "  <thead>\n",
       "    <tr style=\"text-align: right;\">\n",
       "      <th></th>\n",
       "      <th>YEAR</th>\n",
       "      <th>GENDER</th>\n",
       "      <th>AGE</th>\n",
       "      <th>TIME</th>\n",
       "      <th>TIME_(s)</th>\n",
       "      <th>PRECIP_CATEGORY</th>\n",
       "      <th>CLOUD_CATEGORY</th>\n",
       "      <th>TEMP_CATEGORY</th>\n",
       "    </tr>\n",
       "  </thead>\n",
       "  <tbody>\n",
       "    <tr>\n",
       "      <th>0</th>\n",
       "      <td>1974</td>\n",
       "      <td>male</td>\n",
       "      <td>35.0</td>\n",
       "      <td>02:44:53</td>\n",
       "      <td>9893.0</td>\n",
       "      <td>No Rain</td>\n",
       "      <td>Heavy Clouds</td>\n",
       "      <td>Cold</td>\n",
       "    </tr>\n",
       "    <tr>\n",
       "      <th>1</th>\n",
       "      <td>1974</td>\n",
       "      <td>male</td>\n",
       "      <td>45.0</td>\n",
       "      <td>02:46:43</td>\n",
       "      <td>10003.0</td>\n",
       "      <td>No Rain</td>\n",
       "      <td>Heavy Clouds</td>\n",
       "      <td>Cold</td>\n",
       "    </tr>\n",
       "    <tr>\n",
       "      <th>2</th>\n",
       "      <td>1974</td>\n",
       "      <td>male</td>\n",
       "      <td>45.0</td>\n",
       "      <td>02:48:08</td>\n",
       "      <td>10088.0</td>\n",
       "      <td>No Rain</td>\n",
       "      <td>Heavy Clouds</td>\n",
       "      <td>Cold</td>\n",
       "    </tr>\n",
       "    <tr>\n",
       "      <th>3</th>\n",
       "      <td>1974</td>\n",
       "      <td>male</td>\n",
       "      <td>&gt; 30.0</td>\n",
       "      <td>02:48:40</td>\n",
       "      <td>10120.0</td>\n",
       "      <td>No Rain</td>\n",
       "      <td>Heavy Clouds</td>\n",
       "      <td>Cold</td>\n",
       "    </tr>\n",
       "    <tr>\n",
       "      <th>4</th>\n",
       "      <td>1974</td>\n",
       "      <td>male</td>\n",
       "      <td>35.0</td>\n",
       "      <td>02:49:01</td>\n",
       "      <td>10141.0</td>\n",
       "      <td>No Rain</td>\n",
       "      <td>Heavy Clouds</td>\n",
       "      <td>Cold</td>\n",
       "    </tr>\n",
       "    <tr>\n",
       "      <th>...</th>\n",
       "      <td>...</td>\n",
       "      <td>...</td>\n",
       "      <td>...</td>\n",
       "      <td>...</td>\n",
       "      <td>...</td>\n",
       "      <td>...</td>\n",
       "      <td>...</td>\n",
       "      <td>...</td>\n",
       "    </tr>\n",
       "    <tr>\n",
       "      <th>839501</th>\n",
       "      <td>2018</td>\n",
       "      <td>male</td>\n",
       "      <td>50.0</td>\n",
       "      <td>07:21:15</td>\n",
       "      <td>NaN</td>\n",
       "      <td>No Rain</td>\n",
       "      <td>Heavy Clouds</td>\n",
       "      <td>Warm</td>\n",
       "    </tr>\n",
       "    <tr>\n",
       "      <th>839502</th>\n",
       "      <td>2018</td>\n",
       "      <td>male</td>\n",
       "      <td>60.0</td>\n",
       "      <td>07:25:00</td>\n",
       "      <td>NaN</td>\n",
       "      <td>No Rain</td>\n",
       "      <td>Heavy Clouds</td>\n",
       "      <td>Warm</td>\n",
       "    </tr>\n",
       "    <tr>\n",
       "      <th>839503</th>\n",
       "      <td>2018</td>\n",
       "      <td>male</td>\n",
       "      <td>60.0</td>\n",
       "      <td>07:30:15</td>\n",
       "      <td>NaN</td>\n",
       "      <td>No Rain</td>\n",
       "      <td>Heavy Clouds</td>\n",
       "      <td>Warm</td>\n",
       "    </tr>\n",
       "    <tr>\n",
       "      <th>839504</th>\n",
       "      <td>2018</td>\n",
       "      <td>female</td>\n",
       "      <td>45.0</td>\n",
       "      <td>07:34:33</td>\n",
       "      <td>NaN</td>\n",
       "      <td>No Rain</td>\n",
       "      <td>Heavy Clouds</td>\n",
       "      <td>Warm</td>\n",
       "    </tr>\n",
       "    <tr>\n",
       "      <th>839505</th>\n",
       "      <td>2018</td>\n",
       "      <td>female</td>\n",
       "      <td>30.0</td>\n",
       "      <td>07:40:08</td>\n",
       "      <td>NaN</td>\n",
       "      <td>No Rain</td>\n",
       "      <td>Heavy Clouds</td>\n",
       "      <td>Warm</td>\n",
       "    </tr>\n",
       "  </tbody>\n",
       "</table>\n",
       "<p>839499 rows × 8 columns</p>\n",
       "</div>"
      ],
      "text/plain": [
       "        YEAR  GENDER     AGE      TIME  TIME_(s) PRECIP_CATEGORY  \\\n",
       "0       1974    male    35.0  02:44:53    9893.0         No Rain   \n",
       "1       1974    male    45.0  02:46:43   10003.0         No Rain   \n",
       "2       1974    male    45.0  02:48:08   10088.0         No Rain   \n",
       "3       1974    male  > 30.0  02:48:40   10120.0         No Rain   \n",
       "4       1974    male    35.0  02:49:01   10141.0         No Rain   \n",
       "...      ...     ...     ...       ...       ...             ...   \n",
       "839501  2018    male    50.0  07:21:15       NaN         No Rain   \n",
       "839502  2018    male    60.0  07:25:00       NaN         No Rain   \n",
       "839503  2018    male    60.0  07:30:15       NaN         No Rain   \n",
       "839504  2018  female    45.0  07:34:33       NaN         No Rain   \n",
       "839505  2018  female    30.0  07:40:08       NaN         No Rain   \n",
       "\n",
       "       CLOUD_CATEGORY TEMP_CATEGORY  \n",
       "0        Heavy Clouds          Cold  \n",
       "1        Heavy Clouds          Cold  \n",
       "2        Heavy Clouds          Cold  \n",
       "3        Heavy Clouds          Cold  \n",
       "4        Heavy Clouds          Cold  \n",
       "...               ...           ...  \n",
       "839501   Heavy Clouds          Warm  \n",
       "839502   Heavy Clouds          Warm  \n",
       "839503   Heavy Clouds          Warm  \n",
       "839504   Heavy Clouds          Warm  \n",
       "839505   Heavy Clouds          Warm  \n",
       "\n",
       "[839499 rows x 8 columns]"
      ]
     },
     "execution_count": 191,
     "metadata": {},
     "output_type": "execute_result"
    }
   ],
   "source": [
    "df2 = df.copy()  # Avoid modifying the original df directly\n",
    "years_to_delete = [1974, 1975, 1977, 1979, 1981, 1982, 1983]\n",
    "df2 = df2.loc[~df2.index.isin(years_to_delete)]  # Use .isin() to filter out rows based on the index\n",
    "df2"
   ]
  },
  {
   "cell_type": "code",
   "execution_count": 192,
   "id": "da6928c7-1a35-448f-9e1a-ec29a138cb31",
   "metadata": {},
   "outputs": [],
   "source": [
    "years_to_delete = [1974, 1975, 1977, 1979, 1981, 1982, 1983]\n",
    "df2 = df[~df['YEAR'].isin(years_to_delete)]"
   ]
  },
  {
   "cell_type": "code",
   "execution_count": 193,
   "id": "df128be2-9c5e-46c8-9458-3d5840291dd3",
   "metadata": {},
   "outputs": [
    {
     "data": {
      "text/html": [
       "<div>\n",
       "<style scoped>\n",
       "    .dataframe tbody tr th:only-of-type {\n",
       "        vertical-align: middle;\n",
       "    }\n",
       "\n",
       "    .dataframe tbody tr th {\n",
       "        vertical-align: top;\n",
       "    }\n",
       "\n",
       "    .dataframe thead th {\n",
       "        text-align: right;\n",
       "    }\n",
       "</style>\n",
       "<table border=\"1\" class=\"dataframe\">\n",
       "  <thead>\n",
       "    <tr style=\"text-align: right;\">\n",
       "      <th></th>\n",
       "      <th>YEAR</th>\n",
       "      <th>GENDER</th>\n",
       "      <th>AGE</th>\n",
       "      <th>TIME</th>\n",
       "      <th>TIME_(s)</th>\n",
       "      <th>PRECIP_CATEGORY</th>\n",
       "      <th>CLOUD_CATEGORY</th>\n",
       "      <th>TEMP_CATEGORY</th>\n",
       "    </tr>\n",
       "  </thead>\n",
       "  <tbody>\n",
       "    <tr>\n",
       "      <th>11762</th>\n",
       "      <td>1984</td>\n",
       "      <td>male</td>\n",
       "      <td>&gt; 30.0</td>\n",
       "      <td>02:13:35</td>\n",
       "      <td>8015.0</td>\n",
       "      <td>Light Rain</td>\n",
       "      <td>Heavy Clouds</td>\n",
       "      <td>Warm</td>\n",
       "    </tr>\n",
       "    <tr>\n",
       "      <th>11763</th>\n",
       "      <td>1984</td>\n",
       "      <td>male</td>\n",
       "      <td>35.0</td>\n",
       "      <td>02:13:43</td>\n",
       "      <td>8023.0</td>\n",
       "      <td>Light Rain</td>\n",
       "      <td>Heavy Clouds</td>\n",
       "      <td>Warm</td>\n",
       "    </tr>\n",
       "    <tr>\n",
       "      <th>11764</th>\n",
       "      <td>1984</td>\n",
       "      <td>male</td>\n",
       "      <td>&gt; 30.0</td>\n",
       "      <td>02:14:53</td>\n",
       "      <td>8093.0</td>\n",
       "      <td>Light Rain</td>\n",
       "      <td>Heavy Clouds</td>\n",
       "      <td>Warm</td>\n",
       "    </tr>\n",
       "    <tr>\n",
       "      <th>11765</th>\n",
       "      <td>1984</td>\n",
       "      <td>male</td>\n",
       "      <td>35.0</td>\n",
       "      <td>02:14:56</td>\n",
       "      <td>8096.0</td>\n",
       "      <td>Light Rain</td>\n",
       "      <td>Heavy Clouds</td>\n",
       "      <td>Warm</td>\n",
       "    </tr>\n",
       "    <tr>\n",
       "      <th>11766</th>\n",
       "      <td>1984</td>\n",
       "      <td>male</td>\n",
       "      <td>&gt; 30.0</td>\n",
       "      <td>02:15:03</td>\n",
       "      <td>8103.0</td>\n",
       "      <td>Light Rain</td>\n",
       "      <td>Heavy Clouds</td>\n",
       "      <td>Warm</td>\n",
       "    </tr>\n",
       "  </tbody>\n",
       "</table>\n",
       "</div>"
      ],
      "text/plain": [
       "       YEAR GENDER     AGE      TIME  TIME_(s) PRECIP_CATEGORY CLOUD_CATEGORY  \\\n",
       "11762  1984   male  > 30.0  02:13:35    8015.0      Light Rain   Heavy Clouds   \n",
       "11763  1984   male    35.0  02:13:43    8023.0      Light Rain   Heavy Clouds   \n",
       "11764  1984   male  > 30.0  02:14:53    8093.0      Light Rain   Heavy Clouds   \n",
       "11765  1984   male    35.0  02:14:56    8096.0      Light Rain   Heavy Clouds   \n",
       "11766  1984   male  > 30.0  02:15:03    8103.0      Light Rain   Heavy Clouds   \n",
       "\n",
       "      TEMP_CATEGORY  \n",
       "11762          Warm  \n",
       "11763          Warm  \n",
       "11764          Warm  \n",
       "11765          Warm  \n",
       "11766          Warm  "
      ]
     },
     "execution_count": 193,
     "metadata": {},
     "output_type": "execute_result"
    }
   ],
   "source": [
    "df2.head(5)"
   ]
  },
  {
   "cell_type": "code",
   "execution_count": 194,
   "id": "762b86e1-8aa6-4fab-8d14-57a016d6d75c",
   "metadata": {},
   "outputs": [
    {
     "data": {
      "image/png": "[encoded data removed]",
      "text/plain": [
       "<Figure size 900x600 with 1 Axes>"
      ]
     },
     "metadata": {},
     "output_type": "display_data"
    }
   ],
   "source": [
    "mean_time_by_year = df2.groupby('YEAR')['TIME_(s)'].mean().reset_index()\n",
    "\n",
    "sns.lmplot(x='YEAR', y='TIME_(s)', data=mean_time_by_year, height=6, aspect=1.5)\n",
    "plt.title('Mean Marathon Time (s) by Year with Regression Line')\n",
    "plt.xlabel('Year')\n",
    "plt.ylabel('Mean Time (s)')\n",
    "plt.show()"
   ]
  },
  {
   "cell_type": "code",
   "execution_count": 195,
   "id": "befdd041-7b75-4dc1-9275-6e8cc91f7dc3",
   "metadata": {},
   "outputs": [
    {
     "data": {
      "image/png": "[encoded data removed]",
      "text/plain": [
       "<Figure size 900x600 with 1 Axes>"
      ]
     },
     "metadata": {},
     "output_type": "display_data"
    }
   ],
   "source": [
    "mean_time_by_year = df2.groupby('YEAR')['TIME_(s)'].mean().reset_index()\n",
    "\n",
    "sns.lmplot(x='YEAR', y='TIME_(s)', data=mean_time_by_year, height=6, aspect=1.5)\n",
    "\n",
    "plt.gca().set_yticks(plt.gca().get_yticks())\n",
    "plt.gca().set_yticklabels([f\"{y/3600:.2f}\" for y in plt.gca().get_yticks()])\n",
    "\n",
    "plt.title('Mean Marathon Time (hours) by Year with Regression Line')\n",
    "plt.xlabel('Year')\n",
    "plt.ylabel('Mean Time (hours)')\n",
    "\n",
    "plt.show()"
   ]
  },
  {
   "cell_type": "code",
   "execution_count": 196,
   "id": "6e40a078-353b-4380-aec7-dc2df140fbba",
   "metadata": {},
   "outputs": [],
   "source": [
    "# So my plan is to find the 'residuals'.\n",
    "# I.e the differences between actual and predicted values between this regression line and the actual mean finshing time.\n",
    "# Then I can compare these residuals with the temperature catergories."
   ]
  },
  {
   "cell_type": "code",
   "execution_count": 197,
   "id": "ef0ec3d1-7412-4bc7-8754-411e1af0442d",
   "metadata": {},
   "outputs": [],
   "source": [
    "# First we need to add a column called REGRESSION."
   ]
  },
  {
   "cell_type": "code",
   "execution_count": 198,
   "id": "4b6d24a4-bcd0-4239-aa53-34e3b7e6f584",
   "metadata": {},
   "outputs": [
    {
     "name": "stderr",
     "output_type": "stream",
     "text": [
      "/var/folders/wh/mdt4h3r54f11yvfsw8xvpf040000gn/T/ipykernel_98469/1767776948.py:5: SettingWithCopyWarning: \n",
      "A value is trying to be set on a copy of a slice from a DataFrame.\n",
      "Try using .loc[row_indexer,col_indexer] = value instead\n",
      "\n",
      "See the caveats in the documentation: https://pandas.pydata.org/pandas-docs/stable/user_guide/indexing.html#returning-a-view-versus-a-copy\n",
      "  df2.loc[:, 'REGRESSION'] = regression_line(df2['YEAR'])\n"
     ]
    }
   ],
   "source": [
    "coefficients = np.polyfit(mean_time_by_year['YEAR'], mean_time_by_year['TIME_(s)'], deg=1)\n",
    "\n",
    "regression_line = np.poly1d(coefficients)\n",
    "\n",
    "df2.loc[:, 'REGRESSION'] = regression_line(df2['YEAR'])"
   ]
  },
  {
   "cell_type": "code",
   "execution_count": 199,
   "id": "7e318e8c-6303-434b-bd5f-9af475be9b95",
   "metadata": {},
   "outputs": [
    {
     "data": {
      "text/html": [
       "<div>\n",
       "<style scoped>\n",
       "    .dataframe tbody tr th:only-of-type {\n",
       "        vertical-align: middle;\n",
       "    }\n",
       "\n",
       "    .dataframe tbody tr th {\n",
       "        vertical-align: top;\n",
       "    }\n",
       "\n",
       "    .dataframe thead th {\n",
       "        text-align: right;\n",
       "    }\n",
       "</style>\n",
       "<table border=\"1\" class=\"dataframe\">\n",
       "  <thead>\n",
       "    <tr style=\"text-align: right;\">\n",
       "      <th></th>\n",
       "      <th>YEAR</th>\n",
       "      <th>GENDER</th>\n",
       "      <th>AGE</th>\n",
       "      <th>TIME</th>\n",
       "      <th>TIME_(s)</th>\n",
       "      <th>PRECIP_CATEGORY</th>\n",
       "      <th>CLOUD_CATEGORY</th>\n",
       "      <th>TEMP_CATEGORY</th>\n",
       "      <th>REGRESSION</th>\n",
       "    </tr>\n",
       "  </thead>\n",
       "  <tbody>\n",
       "    <tr>\n",
       "      <th>11762</th>\n",
       "      <td>1984</td>\n",
       "      <td>male</td>\n",
       "      <td>&gt; 30.0</td>\n",
       "      <td>02:13:35</td>\n",
       "      <td>8015.0</td>\n",
       "      <td>Light Rain</td>\n",
       "      <td>Heavy Clouds</td>\n",
       "      <td>Warm</td>\n",
       "      <td>12835.636805</td>\n",
       "    </tr>\n",
       "    <tr>\n",
       "      <th>11763</th>\n",
       "      <td>1984</td>\n",
       "      <td>male</td>\n",
       "      <td>35.0</td>\n",
       "      <td>02:13:43</td>\n",
       "      <td>8023.0</td>\n",
       "      <td>Light Rain</td>\n",
       "      <td>Heavy Clouds</td>\n",
       "      <td>Warm</td>\n",
       "      <td>12835.636805</td>\n",
       "    </tr>\n",
       "    <tr>\n",
       "      <th>11764</th>\n",
       "      <td>1984</td>\n",
       "      <td>male</td>\n",
       "      <td>&gt; 30.0</td>\n",
       "      <td>02:14:53</td>\n",
       "      <td>8093.0</td>\n",
       "      <td>Light Rain</td>\n",
       "      <td>Heavy Clouds</td>\n",
       "      <td>Warm</td>\n",
       "      <td>12835.636805</td>\n",
       "    </tr>\n",
       "    <tr>\n",
       "      <th>11765</th>\n",
       "      <td>1984</td>\n",
       "      <td>male</td>\n",
       "      <td>35.0</td>\n",
       "      <td>02:14:56</td>\n",
       "      <td>8096.0</td>\n",
       "      <td>Light Rain</td>\n",
       "      <td>Heavy Clouds</td>\n",
       "      <td>Warm</td>\n",
       "      <td>12835.636805</td>\n",
       "    </tr>\n",
       "    <tr>\n",
       "      <th>11766</th>\n",
       "      <td>1984</td>\n",
       "      <td>male</td>\n",
       "      <td>&gt; 30.0</td>\n",
       "      <td>02:15:03</td>\n",
       "      <td>8103.0</td>\n",
       "      <td>Light Rain</td>\n",
       "      <td>Heavy Clouds</td>\n",
       "      <td>Warm</td>\n",
       "      <td>12835.636805</td>\n",
       "    </tr>\n",
       "  </tbody>\n",
       "</table>\n",
       "</div>"
      ],
      "text/plain": [
       "       YEAR GENDER     AGE      TIME  TIME_(s) PRECIP_CATEGORY CLOUD_CATEGORY  \\\n",
       "11762  1984   male  > 30.0  02:13:35    8015.0      Light Rain   Heavy Clouds   \n",
       "11763  1984   male    35.0  02:13:43    8023.0      Light Rain   Heavy Clouds   \n",
       "11764  1984   male  > 30.0  02:14:53    8093.0      Light Rain   Heavy Clouds   \n",
       "11765  1984   male    35.0  02:14:56    8096.0      Light Rain   Heavy Clouds   \n",
       "11766  1984   male  > 30.0  02:15:03    8103.0      Light Rain   Heavy Clouds   \n",
       "\n",
       "      TEMP_CATEGORY    REGRESSION  \n",
       "11762          Warm  12835.636805  \n",
       "11763          Warm  12835.636805  \n",
       "11764          Warm  12835.636805  \n",
       "11765          Warm  12835.636805  \n",
       "11766          Warm  12835.636805  "
      ]
     },
     "execution_count": 199,
     "metadata": {},
     "output_type": "execute_result"
    }
   ],
   "source": [
    "df2.head(5)"
   ]
  },
  {
   "cell_type": "code",
   "execution_count": 200,
   "id": "d2b3cbd8-712c-4122-b76f-ef6f7daca89a",
   "metadata": {},
   "outputs": [],
   "source": [
    "# Need to double check these values are correct."
   ]
  },
  {
   "cell_type": "code",
   "execution_count": 201,
   "id": "4ca6d62b-2059-44ee-94fe-ec081f87909e",
   "metadata": {
    "scrolled": true
   },
   "outputs": [
    {
     "data": {
      "image/png": "[encoded data removed]",
      "text/plain": [
       "<Figure size 640x480 with 1 Axes>"
      ]
     },
     "metadata": {},
     "output_type": "display_data"
    }
   ],
   "source": [
    "sns.lineplot(x=df2['YEAR'], y=df2['REGRESSION'])\n",
    "\n",
    "plt.xlabel('Year')\n",
    "plt.ylabel('Regression Value')\n",
    "plt.title('Regression Line by Year')\n",
    "\n",
    "plt.show()"
   ]
  },
  {
   "cell_type": "code",
   "execution_count": 202,
   "id": "f0d5b886-bdc6-40fc-9763-d00b4241b219",
   "metadata": {},
   "outputs": [],
   "source": [
    "# Now I need to calculate the RESIDUALS."
   ]
  },
  {
   "cell_type": "code",
   "execution_count": 203,
   "id": "e580cb42-9a09-4a2d-a9fa-2954245eb4df",
   "metadata": {},
   "outputs": [
    {
     "name": "stderr",
     "output_type": "stream",
     "text": [
      "/var/folders/wh/mdt4h3r54f11yvfsw8xvpf040000gn/T/ipykernel_98469/3301783916.py:1: SettingWithCopyWarning: \n",
      "A value is trying to be set on a copy of a slice from a DataFrame.\n",
      "Try using .loc[row_indexer,col_indexer] = value instead\n",
      "\n",
      "See the caveats in the documentation: https://pandas.pydata.org/pandas-docs/stable/user_guide/indexing.html#returning-a-view-versus-a-copy\n",
      "  df2.loc[:, 'RESIDUALS'] = df2['TIME_(s)'] - df2['REGRESSION']\n"
     ]
    }
   ],
   "source": [
    "df2.loc[:, 'RESIDUALS'] = df2['TIME_(s)'] - df2['REGRESSION']"
   ]
  },
  {
   "cell_type": "code",
   "execution_count": 204,
   "id": "afdd2398-e341-4eb7-adad-8b9e3d9b5339",
   "metadata": {},
   "outputs": [
    {
     "data": {
      "text/html": [
       "<div>\n",
       "<style scoped>\n",
       "    .dataframe tbody tr th:only-of-type {\n",
       "        vertical-align: middle;\n",
       "    }\n",
       "\n",
       "    .dataframe tbody tr th {\n",
       "        vertical-align: top;\n",
       "    }\n",
       "\n",
       "    .dataframe thead th {\n",
       "        text-align: right;\n",
       "    }\n",
       "</style>\n",
       "<table border=\"1\" class=\"dataframe\">\n",
       "  <thead>\n",
       "    <tr style=\"text-align: right;\">\n",
       "      <th></th>\n",
       "      <th>YEAR</th>\n",
       "      <th>GENDER</th>\n",
       "      <th>AGE</th>\n",
       "      <th>TIME</th>\n",
       "      <th>TIME_(s)</th>\n",
       "      <th>PRECIP_CATEGORY</th>\n",
       "      <th>CLOUD_CATEGORY</th>\n",
       "      <th>TEMP_CATEGORY</th>\n",
       "      <th>REGRESSION</th>\n",
       "      <th>RESIDUALS</th>\n",
       "    </tr>\n",
       "  </thead>\n",
       "  <tbody>\n",
       "    <tr>\n",
       "      <th>11762</th>\n",
       "      <td>1984</td>\n",
       "      <td>male</td>\n",
       "      <td>&gt; 30.0</td>\n",
       "      <td>02:13:35</td>\n",
       "      <td>8015.0</td>\n",
       "      <td>Light Rain</td>\n",
       "      <td>Heavy Clouds</td>\n",
       "      <td>Warm</td>\n",
       "      <td>12835.636805</td>\n",
       "      <td>-4820.636805</td>\n",
       "    </tr>\n",
       "    <tr>\n",
       "      <th>11763</th>\n",
       "      <td>1984</td>\n",
       "      <td>male</td>\n",
       "      <td>35.0</td>\n",
       "      <td>02:13:43</td>\n",
       "      <td>8023.0</td>\n",
       "      <td>Light Rain</td>\n",
       "      <td>Heavy Clouds</td>\n",
       "      <td>Warm</td>\n",
       "      <td>12835.636805</td>\n",
       "      <td>-4812.636805</td>\n",
       "    </tr>\n",
       "    <tr>\n",
       "      <th>11764</th>\n",
       "      <td>1984</td>\n",
       "      <td>male</td>\n",
       "      <td>&gt; 30.0</td>\n",
       "      <td>02:14:53</td>\n",
       "      <td>8093.0</td>\n",
       "      <td>Light Rain</td>\n",
       "      <td>Heavy Clouds</td>\n",
       "      <td>Warm</td>\n",
       "      <td>12835.636805</td>\n",
       "      <td>-4742.636805</td>\n",
       "    </tr>\n",
       "    <tr>\n",
       "      <th>11765</th>\n",
       "      <td>1984</td>\n",
       "      <td>male</td>\n",
       "      <td>35.0</td>\n",
       "      <td>02:14:56</td>\n",
       "      <td>8096.0</td>\n",
       "      <td>Light Rain</td>\n",
       "      <td>Heavy Clouds</td>\n",
       "      <td>Warm</td>\n",
       "      <td>12835.636805</td>\n",
       "      <td>-4739.636805</td>\n",
       "    </tr>\n",
       "    <tr>\n",
       "      <th>11766</th>\n",
       "      <td>1984</td>\n",
       "      <td>male</td>\n",
       "      <td>&gt; 30.0</td>\n",
       "      <td>02:15:03</td>\n",
       "      <td>8103.0</td>\n",
       "      <td>Light Rain</td>\n",
       "      <td>Heavy Clouds</td>\n",
       "      <td>Warm</td>\n",
       "      <td>12835.636805</td>\n",
       "      <td>-4732.636805</td>\n",
       "    </tr>\n",
       "  </tbody>\n",
       "</table>\n",
       "</div>"
      ],
      "text/plain": [
       "       YEAR GENDER     AGE      TIME  TIME_(s) PRECIP_CATEGORY CLOUD_CATEGORY  \\\n",
       "11762  1984   male  > 30.0  02:13:35    8015.0      Light Rain   Heavy Clouds   \n",
       "11763  1984   male    35.0  02:13:43    8023.0      Light Rain   Heavy Clouds   \n",
       "11764  1984   male  > 30.0  02:14:53    8093.0      Light Rain   Heavy Clouds   \n",
       "11765  1984   male    35.0  02:14:56    8096.0      Light Rain   Heavy Clouds   \n",
       "11766  1984   male  > 30.0  02:15:03    8103.0      Light Rain   Heavy Clouds   \n",
       "\n",
       "      TEMP_CATEGORY    REGRESSION    RESIDUALS  \n",
       "11762          Warm  12835.636805 -4820.636805  \n",
       "11763          Warm  12835.636805 -4812.636805  \n",
       "11764          Warm  12835.636805 -4742.636805  \n",
       "11765          Warm  12835.636805 -4739.636805  \n",
       "11766          Warm  12835.636805 -4732.636805  "
      ]
     },
     "execution_count": 204,
     "metadata": {},
     "output_type": "execute_result"
    }
   ],
   "source": [
    "df2.head(5)"
   ]
  },
  {
   "cell_type": "code",
   "execution_count": 205,
   "id": "9790fea9-c051-488f-99cc-6d69dac1cc92",
   "metadata": {},
   "outputs": [
    {
     "data": {
      "text/html": [
       "<div>\n",
       "<style scoped>\n",
       "    .dataframe tbody tr th:only-of-type {\n",
       "        vertical-align: middle;\n",
       "    }\n",
       "\n",
       "    .dataframe tbody tr th {\n",
       "        vertical-align: top;\n",
       "    }\n",
       "\n",
       "    .dataframe thead th {\n",
       "        text-align: right;\n",
       "    }\n",
       "</style>\n",
       "<table border=\"1\" class=\"dataframe\">\n",
       "  <thead>\n",
       "    <tr style=\"text-align: right;\">\n",
       "      <th></th>\n",
       "      <th>YEAR</th>\n",
       "      <th>GENDER</th>\n",
       "      <th>AGE</th>\n",
       "      <th>TIME</th>\n",
       "      <th>TIME_(s)</th>\n",
       "      <th>PRECIP_CATEGORY</th>\n",
       "      <th>CLOUD_CATEGORY</th>\n",
       "      <th>TEMP_CATEGORY</th>\n",
       "      <th>REGRESSION</th>\n",
       "      <th>RESIDUALS</th>\n",
       "    </tr>\n",
       "  </thead>\n",
       "  <tbody>\n",
       "    <tr>\n",
       "      <th>11762</th>\n",
       "      <td>1984</td>\n",
       "      <td>male</td>\n",
       "      <td>&gt; 30.0</td>\n",
       "      <td>02:13:35</td>\n",
       "      <td>8015.0</td>\n",
       "      <td>Light Rain</td>\n",
       "      <td>Heavy Clouds</td>\n",
       "      <td>Warm</td>\n",
       "      <td>12835.636805</td>\n",
       "      <td>-4820.636805</td>\n",
       "    </tr>\n",
       "    <tr>\n",
       "      <th>11763</th>\n",
       "      <td>1984</td>\n",
       "      <td>male</td>\n",
       "      <td>35.0</td>\n",
       "      <td>02:13:43</td>\n",
       "      <td>8023.0</td>\n",
       "      <td>Light Rain</td>\n",
       "      <td>Heavy Clouds</td>\n",
       "      <td>Warm</td>\n",
       "      <td>12835.636805</td>\n",
       "      <td>-4812.636805</td>\n",
       "    </tr>\n",
       "    <tr>\n",
       "      <th>11764</th>\n",
       "      <td>1984</td>\n",
       "      <td>male</td>\n",
       "      <td>&gt; 30.0</td>\n",
       "      <td>02:14:53</td>\n",
       "      <td>8093.0</td>\n",
       "      <td>Light Rain</td>\n",
       "      <td>Heavy Clouds</td>\n",
       "      <td>Warm</td>\n",
       "      <td>12835.636805</td>\n",
       "      <td>-4742.636805</td>\n",
       "    </tr>\n",
       "    <tr>\n",
       "      <th>11765</th>\n",
       "      <td>1984</td>\n",
       "      <td>male</td>\n",
       "      <td>35.0</td>\n",
       "      <td>02:14:56</td>\n",
       "      <td>8096.0</td>\n",
       "      <td>Light Rain</td>\n",
       "      <td>Heavy Clouds</td>\n",
       "      <td>Warm</td>\n",
       "      <td>12835.636805</td>\n",
       "      <td>-4739.636805</td>\n",
       "    </tr>\n",
       "  </tbody>\n",
       "</table>\n",
       "</div>"
      ],
      "text/plain": [
       "       YEAR GENDER     AGE      TIME  TIME_(s) PRECIP_CATEGORY CLOUD_CATEGORY  \\\n",
       "11762  1984   male  > 30.0  02:13:35    8015.0      Light Rain   Heavy Clouds   \n",
       "11763  1984   male    35.0  02:13:43    8023.0      Light Rain   Heavy Clouds   \n",
       "11764  1984   male  > 30.0  02:14:53    8093.0      Light Rain   Heavy Clouds   \n",
       "11765  1984   male    35.0  02:14:56    8096.0      Light Rain   Heavy Clouds   \n",
       "\n",
       "      TEMP_CATEGORY    REGRESSION    RESIDUALS  \n",
       "11762          Warm  12835.636805 -4820.636805  \n",
       "11763          Warm  12835.636805 -4812.636805  \n",
       "11764          Warm  12835.636805 -4742.636805  \n",
       "11765          Warm  12835.636805 -4739.636805  "
      ]
     },
     "execution_count": 205,
     "metadata": {},
     "output_type": "execute_result"
    }
   ],
   "source": [
    "df2.head(4)"
   ]
  },
  {
   "cell_type": "code",
   "execution_count": 206,
   "id": "1071d19d-0c22-4dc6-a27b-6e9bd197b617",
   "metadata": {},
   "outputs": [],
   "source": [
    "# Now I want to redo the ANOVA test."
   ]
  },
  {
   "cell_type": "code",
   "execution_count": 207,
   "id": "e3af1c71-71c7-448c-9048-e6f96a92de33",
   "metadata": {},
   "outputs": [],
   "source": [
    "COLD_2 = df2[df2['TEMP_CATEGORY'] == 'Cold']['RESIDUALS']\n",
    "WARM_2 = df2[df2['TEMP_CATEGORY'] == 'Warm']['RESIDUALS']\n",
    "HOT_2 = df2[df2['TEMP_CATEGORY'] == 'Hot']['RESIDUALS']"
   ]
  },
  {
   "cell_type": "code",
   "execution_count": 208,
   "id": "d555a732-526e-4f10-a4ab-678766a98d06",
   "metadata": {},
   "outputs": [],
   "source": [
    "COLD_2 = COLD_2.dropna()\n",
    "WARM_2 = WARM_2.dropna()\n",
    "HOT_2 = HOT_2.dropna()    "
   ]
  },
  {
   "cell_type": "code",
   "execution_count": 209,
   "id": "83494357-e313-4f45-9890-9e7831ce1ff4",
   "metadata": {},
   "outputs": [
    {
     "name": "stdout",
     "output_type": "stream",
     "text": [
      "F-Statistic: 3189.95\n",
      "P-Value: 0.0000\n",
      "\n",
      "Reject the Null Hypothesis.\n"
     ]
    }
   ],
   "source": [
    "f_stat, p_value = st.f_oneway(COLD_2, WARM_2, HOT_2)\n",
    "\n",
    "print(f\"F-Statistic: {f_stat:.2f}\")\n",
    "print(f\"P-Value: {p_value:.4f}\")\n",
    "print()\n",
    "\n",
    "alpha = 0.05\n",
    "\n",
    "if p_value > alpha:\n",
    "    print(\"Fail to Reject the Null Hypothesis.\")\n",
    "else:\n",
    "    print(\"Reject the Null Hypothesis.\")"
   ]
  },
  {
   "cell_type": "code",
   "execution_count": 210,
   "id": "9dba77ac-c042-44ce-af00-c2e712295a1b",
   "metadata": {},
   "outputs": [],
   "source": [
    "# So, taking the slower times across the decades into account returned an even higher F-statistic (3189.95 vs 1259.23).\n",
    "# Thus, I proved there is strong relationship between temperature and marathon finish times, meaning that temperature likely affects marathon performance."
   ]
  },
  {
   "cell_type": "code",
   "execution_count": 211,
   "id": "5997c92e-9020-4b23-8c9a-efb8ec0c1566",
   "metadata": {},
   "outputs": [],
   "source": [
    "# Now a bar graph to help visualise my findings."
   ]
  },
  {
   "cell_type": "code",
   "execution_count": 212,
   "id": "969df7e4-3413-433e-b710-50a25147229e",
   "metadata": {},
   "outputs": [
    {
     "name": "stderr",
     "output_type": "stream",
     "text": [
      "/var/folders/wh/mdt4h3r54f11yvfsw8xvpf040000gn/T/ipykernel_98469/2938588908.py:6: FutureWarning: \n",
      "\n",
      "Passing `palette` without assigning `hue` is deprecated and will be removed in v0.14.0. Assign the `x` variable to `hue` and set `legend=False` for the same effect.\n",
      "\n",
      "  sns.barplot(x=residuals_means.index, y=residuals_means.values, palette='coolwarm')\n"
     ]
    },
    {
     "data": {
      "image/png": "[encoded data removed]",
      "text/plain": [
       "<Figure size 800x600 with 1 Axes>"
      ]
     },
     "metadata": {},
     "output_type": "display_data"
    }
   ],
   "source": [
    "category_order = ['Cold', 'Warm', 'Hot']\n",
    "\n",
    "residuals_means = df2.groupby('TEMP_CATEGORY')['RESIDUALS'].mean().reindex(category_order)\n",
    "\n",
    "plt.figure(figsize=(8,6))\n",
    "sns.barplot(x=residuals_means.index, y=residuals_means.values, palette='coolwarm')\n",
    "\n",
    "plt.title('Mean Residuals for Different Temperature Categories')\n",
    "plt.xlabel('Temperature Category')\n",
    "plt.ylabel('Mean Residuals')\n",
    "plt.grid(True, axis='y', linestyle='--', alpha=0.7)\n",
    "\n",
    "plt.show()"
   ]
  }
 ],
 "metadata": {
  "kernelspec": {
   "display_name": "Python 3 (ipykernel)",
   "language": "python",
   "name": "python3"
  },
  "language_info": {
   "codemirror_mode": {
    "name": "ipython",
    "version": 3
   },
   "file_extension": ".py",
   "mimetype": "text/x-python",
   "name": "python",
   "nbconvert_exporter": "python",
   "pygments_lexer": "ipython3",
   "version": "3.12.2"
  }
 },
 "nbformat": 4,
 "nbformat_minor": 5
}
